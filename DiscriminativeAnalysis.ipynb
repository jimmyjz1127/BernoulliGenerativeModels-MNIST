{
 "cells": [
  {
   "cell_type": "markdown",
   "id": "97bccbe5",
   "metadata": {},
   "source": [
    "Linear Discriminative Analysis and Quadratic Discriminative Analysis for normal MNIST classification"
   ]
  },
  {
   "cell_type": "code",
   "execution_count": 139,
   "id": "4f8405c7",
   "metadata": {},
   "outputs": [],
   "source": [
    "%matplotlib inline\n",
    "# %matplotlib notebook\n",
    "%config Completer.use_jedi = False\n",
    "import matplotlib.pyplot as plt\n",
    "import numpy as np\n",
    "import pandas as pd\n",
    "from scipy.special import logsumexp\n",
    "from scipy.special import softmax\n",
    "import numpy.linalg as linalg\n",
    "from sklearn.cluster import KMeans\n",
    "from sklearn import metrics\n",
    "import scipy.sparse as sparse\n",
    "from scipy.stats import multivariate_normal\n",
    "\n",
    "from sklearn import metrics\n",
    "from sklearn.metrics import accuracy_score, precision_recall_fscore_support"
   ]
  },
  {
   "cell_type": "code",
   "execution_count": 6,
   "id": "f8fa6356",
   "metadata": {},
   "outputs": [],
   "source": [
    "rng = np.random.default_rng(123)"
   ]
  },
  {
   "cell_type": "markdown",
   "id": "ad8c9fe5",
   "metadata": {},
   "source": [
    "# 1 Load Data"
   ]
  },
  {
   "cell_type": "code",
   "execution_count": 7,
   "id": "bd1a2a24",
   "metadata": {},
   "outputs": [],
   "source": [
    "from sklearn.datasets import fetch_openml\n",
    "mnist = fetch_openml('mnist_784', parser ='auto')"
   ]
  },
  {
   "cell_type": "code",
   "execution_count": 8,
   "id": "37b692f0",
   "metadata": {},
   "outputs": [],
   "source": [
    "X_mnist = np.array(mnist.data) # binary-rise the data\n",
    "Y_mnist = np.array(mnist.target, dtype ='int')\n",
    "X_mnist_train = X_mnist[:4000, :] # use the first 4000 images as training data\n",
    "Y_mnist_train = Y_mnist[:4000]\n",
    "X_mnist_test = X_mnist[4000:5000, :] # the next 1000 as testing\n",
    "Y_mnist_test = Y_mnist[4000:5000]"
   ]
  },
  {
   "cell_type": "markdown",
   "id": "447ea52e",
   "metadata": {},
   "source": [
    "# 2 Linear Discriminant Analysis"
   ]
  },
  {
   "cell_type": "markdown",
   "id": "d6d6d729",
   "metadata": {},
   "source": [
    "## 2.1 Algorithm"
   ]
  },
  {
   "cell_type": "markdown",
   "id": "755c9024",
   "metadata": {},
   "source": [
    "Gaussian Log Likelihood\n",
    "$$\\begin{align}\n",
    "    P(x|\\sigma_k^2,\\mu_k) = -\\frac{n}{2}\\ln(2\\pi\\sigma^{2}_k) - \\frac{1}{2\\sigma^{2}}\\sum_{i=1}^n (x - \\mu_k)^2\n",
    "\\end{align}$$"
   ]
  },
  {
   "cell_type": "markdown",
   "id": "5f76ed15",
   "metadata": {},
   "source": [
    "Gaussian Density \n",
    "\n",
    "$$\\begin{align}\n",
    "\n",
    "\\end{align}$$"
   ]
  },
  {
   "cell_type": "markdown",
   "id": "c142fc55",
   "metadata": {},
   "source": [
    "Assume shared covariance $\\Sigma$\n",
    "\n",
    "$$\\begin{align}\n",
    "    \\hat{\\pi}_c &= \\frac{n_c}{n}\\\\\n",
    "    \\hat{\\mu}_c  &= \\frac{1}{n_c}\\sum_{i=1}^{n} \\mathbb{1}(y^{(i)} = c) \\cdot \\mathbf{x}^{(i)}\\\\\n",
    "    \\hat{\\Sigma} &= \\frac{1}{n}\\sum_{c=i}^{C}\\sum_{i=1}^{n} \\mathbb{1}(y^{(i)} = c)(\\mathbf{x}^{(i)} - \\mu_c)(\\mathbf{x}^{(i)} - \\mu_c)^\\top\n",
    "\\end{align}$$"
   ]
  },
  {
   "cell_type": "code",
   "execution_count": 75,
   "id": "d1867bfb",
   "metadata": {},
   "outputs": [],
   "source": [
    "def LDA_fit(X, y):\n",
    "    ''' \n",
    "        X : input matrix (n x d)\n",
    "        y : labels \n",
    "    '''\n",
    "\n",
    "    n,d = X.shape\n",
    "    sse = np.zeros((d,d))\n",
    "    classes = np.unique(y)\n",
    "    K = len(classes)\n",
    "    mus = np.zeros((K,d))\n",
    "    pis = np.zeros(K)\n",
    "    \n",
    "    for idx, c in enumerate(classes):\n",
    "        Xc = X[y==c]\n",
    "        pis[idx] = len(Xc)/n\n",
    "        mus[idx] = np.mean(Xc, axis=0)\n",
    "\n",
    "        error = Xc - mus[idx]\n",
    "\n",
    "        sse += error.T @ error\n",
    "\n",
    "    return pis, mus, sse/n"
   ]
  },
  {
   "cell_type": "code",
   "execution_count": null,
   "id": "5edcc007",
   "metadata": {},
   "outputs": [],
   "source": [
    "def predict(X, πs, μs, Σ, eps=1e-14):\n",
    "    n,d = X.shape\n",
    "    K = len(πs)\n",
    "\n",
    "    # Stores likelihoods of x for each cluster \n",
    "    R = np.zeros((n,K))\n",
    "\n",
    "    # Initialize predicted labels array\n",
    "    y_preds = np.zeros(n)\n",
    "\n",
    "    # Calculate the inverse of the covariance matrix and its determinant\n",
    "    sigma_det = np.linalg.det(Σ)\n",
    "    sigma_inv = np.linalg.pinv(Σ) # pinv for safety\n",
    "    \n",
    "    for i in range(n) :\n",
    "        likelihoods = np.zeros(K)\n",
    "\n",
    "        for k in range(K):\n",
    "            # Compute the log-likelihood for each data point and each cluster\n",
    "            diff = X[i] - μs[k]  # Shape (n, d)\n",
    "\n",
    "            # Mahalanobis distance (squared) between x and mu\n",
    "            exponent = np.dot(np.dot(diff, sigma_inv), diff)\n",
    "            \n",
    "            # Log of the Gaussian component likelihood\n",
    "            log_likelihood_k = -0.5 * (d * np.log(2 * np.pi + eps) + np.log(sigma_det + eps) + exponent)\n",
    "            \n",
    "            # compute and store log likelihood for cluster k\n",
    "            likelihoods[k] = np.log(πs[k] + eps) + log_likelihood_k\n",
    "\n",
    "        # Find the most likely cluster for the current test data point\n",
    "        pred_z = np.argmax(likelihoods)  \n",
    "\n",
    "        y_preds[i] = pred_z\n",
    "    \n",
    "\n",
    "    return y_preds"
   ]
  },
  {
   "cell_type": "markdown",
   "id": "3cdee1c2",
   "metadata": {},
   "source": [
    "## 2.2 Predict and Evaluate"
   ]
  },
  {
   "cell_type": "code",
   "execution_count": 77,
   "id": "0ae4608e",
   "metadata": {},
   "outputs": [],
   "source": [
    "pis, mus, sse = LDA_fit(X_mnist_train, Y_mnist_train)"
   ]
  },
  {
   "cell_type": "markdown",
   "id": "251bb4a1",
   "metadata": {},
   "source": [
    "Plot the learned cluster centers"
   ]
  },
  {
   "cell_type": "code",
   "execution_count": 78,
   "id": "6d0e76f7",
   "metadata": {},
   "outputs": [
    {
     "data": {
      "image/png": "[encoded data removed]",
      "text/plain": [
       "<Figure size 700x350 with 10 Axes>"
      ]
     },
     "metadata": {},
     "output_type": "display_data"
    }
   ],
   "source": [
    "figure = plt.figure(figsize=(7, 3.5))\n",
    "rows, cols= 2, 5\n",
    "for k in range(10):\n",
    "    img = mus[k, :].reshape(28, 28)\n",
    "    figure.add_subplot(rows, cols, k+1)\n",
    "    # plt.title(k)\n",
    "    plt.axis(\"off\")\n",
    "    plt.imshow(img, cmap=\"gray\")\n",
    "plt.show()"
   ]
  },
  {
   "cell_type": "markdown",
   "id": "c9238497",
   "metadata": {},
   "source": [
    "Get cluster assignments based on likelihood"
   ]
  },
  {
   "cell_type": "code",
   "execution_count": 129,
   "id": "55bd3ef4",
   "metadata": {},
   "outputs": [],
   "source": [
    "zs = predict(X_mnist_test, pis, mus, sse)"
   ]
  },
  {
   "cell_type": "code",
   "execution_count": 130,
   "id": "5e8fd327",
   "metadata": {},
   "outputs": [],
   "source": [
    "accuracy = accuracy_score(zs, Y_mnist_test)"
   ]
  },
  {
   "cell_type": "code",
   "execution_count": 131,
   "id": "7e9c6c9c",
   "metadata": {},
   "outputs": [
    {
     "name": "stdout",
     "output_type": "stream",
     "text": [
      "Accuracy : 0.823\n"
     ]
    }
   ],
   "source": [
    "print(\"Accuracy :\", accuracy)"
   ]
  },
  {
   "cell_type": "markdown",
   "id": "67910dcb",
   "metadata": {},
   "source": [
    "# 3 Quadratic Discriminative Analysis"
   ]
  },
  {
   "cell_type": "markdown",
   "id": "5fa5cb6f",
   "metadata": {},
   "source": [
    "## 3.1 Algorithm"
   ]
  },
  {
   "cell_type": "markdown",
   "id": "444c8b8c",
   "metadata": {},
   "source": [
    "Assume each class had different covariance $\\Sigma$\n",
    "\n",
    "$$\\begin{align}\n",
    "    \\hat{\\pi}_c &= \\frac{n_c}{n}\\\\\n",
    "    \\hat{\\mu}_c  &= \\frac{1}{n_c}\\sum_{i=1}^{n} \\mathbb{1}(y^{(i)} = c) \\cdot \\mathbf{x}^{(i)}\\\\\n",
    "    \\hat{\\Sigma}_c &= \\frac{1}{n_c}\\sum_{i=1}^{n} \\mathbb{1}(y^{(i)} = c)(\\mathbf{x}^{(i)} - \\mu_c)(\\mathbf{x}^{(i)} - \\mu_c)^\\top\n",
    "\\end{align}$$"
   ]
  },
  {
   "cell_type": "code",
   "execution_count": 135,
   "id": "26d9a7c2",
   "metadata": {},
   "outputs": [],
   "source": [
    "def QDA_fit(X, y):\n",
    "    ''' \n",
    "        X : input matrix (n x d)\n",
    "        y : labels \n",
    "    '''\n",
    "\n",
    "    n,d = X.shape\n",
    "\n",
    "    classes = np.unique(y)\n",
    "    K = len(classes)\n",
    "\n",
    "    sse = np.zeros((K,d,d))\n",
    "    mus = np.zeros((K,d))\n",
    "    pis = np.zeros(K)\n",
    "    \n",
    "    for idx, c in enumerate(classes):\n",
    "        Xc = X[y==c]\n",
    "        pis[idx] = len(Xc)/n\n",
    "        mus[idx] = np.mean(Xc, axis=0)\n",
    "\n",
    "        error = Xc - mus[idx]\n",
    "\n",
    "        sse[idx] = (error.T @ error)/len(Xc)\n",
    "\n",
    "    return pis, mus, sse"
   ]
  },
  {
   "cell_type": "code",
   "execution_count": null,
   "id": "1dbee4aa",
   "metadata": {},
   "outputs": [],
   "source": [
    "import numpy as np\n",
    "\n",
    "def log_multivariate_normal_pdf(X, mean, cov, eps=1e-6):\n",
    "    \"\"\"\n",
    "    Computes the log-likelihood of each row in X under a multivariate normal distribution\n",
    "    with the given mean and covariance matrix.\n",
    "    \n",
    "    Inputs:\n",
    "    - X: (n, d) data matrix\n",
    "    - mean: (d,) mean vector\n",
    "    - cov: (d, d) covariance matrix\n",
    "    - eps: small regularization constant to make cov positive definite\n",
    "    \n",
    "    Output:\n",
    "    - logpdf: (n,) array of log-likelihoods\n",
    "    \"\"\"\n",
    "    n, d = X.shape\n",
    "\n",
    "    # Regularize covariance matrix to ensure positive definiteness\n",
    "    cov_reg = cov + eps * np.eye(d)\n",
    "\n",
    "    try:\n",
    "        # Use Cholesky decomposition \n",
    "        L = np.linalg.cholesky(cov_reg)\n",
    "        diff = X - mean\n",
    "\n",
    "        # Solve triangular system: L @ y = diff.T\n",
    "        sol = np.linalg.solve(L, diff.T)\n",
    "\n",
    "        # Mahalanobis distance: sum of squares of solved vectors\n",
    "        mahal = np.sum(sol**2, axis=0)\n",
    "\n",
    "        # Log determinant from Cholesky: log|Σ| = 2 * sum(log(diag(L)))\n",
    "        logdet = 2.0 * np.sum(np.log(np.diag(L)))\n",
    "\n",
    "    except np.linalg.LinAlgError:\n",
    "        # Fallback: use pseudoinverse and slogdet\n",
    "        inv_cov = np.linalg.pinv(cov_reg)\n",
    "        diff = X - mean\n",
    "        mahal = np.einsum('ij,jk,ik->i', diff, inv_cov, diff)\n",
    "        sign, logdet = np.linalg.slogdet(cov_reg)\n",
    "        if sign != 1:\n",
    "            raise ValueError(\"Covariance matrix is not positive semi-definite\")\n",
    "\n",
    "    # Log-likelihood\n",
    "    return -0.5 * (d * np.log(2 * np.pi) + logdet + mahal)\n"
   ]
  },
  {
   "cell_type": "code",
   "execution_count": null,
   "id": "6a7bef9e",
   "metadata": {},
   "outputs": [],
   "source": [
    "def QDA_predict(X, πs, μs, Σ, eps=1e-14):\n",
    "    n,d = X.shape\n",
    "    K = len(πs)\n",
    "\n",
    "    # Stores likelihoods of x for each cluster \n",
    "    R = np.zeros((n,K))\n",
    "\n",
    "    likelihoods = np.zeros((K,n))\n",
    "\n",
    "    for k in range(K):\n",
    "        # log likelihood\n",
    "        ll_k = log_multivariate_normal_pdf(X, mean=μs[k], cov=Σ[k])\n",
    "\n",
    "        # Full component weighted log-likelihood\n",
    "        full_ll_k = np.log(πs[k] + eps) + ll_k\n",
    "        \n",
    "        likelihoods[k] = full_ll_k\n",
    "\n",
    "    # Find the most likely cluster for the current test data point\n",
    "    y_preds = np.argmax(likelihoods, axis=0)\n",
    "\n",
    "    return y_preds"
   ]
  },
  {
   "cell_type": "markdown",
   "id": "a0978c69",
   "metadata": {},
   "source": [
    "## 3.2 Predict and Evaluate"
   ]
  },
  {
   "cell_type": "code",
   "execution_count": 221,
   "id": "2caa1fe6",
   "metadata": {},
   "outputs": [],
   "source": [
    "pis, mus, sse = QDA_fit(X_mnist_train, Y_mnist_train)"
   ]
  },
  {
   "cell_type": "code",
   "execution_count": 222,
   "id": "1ccaf74f",
   "metadata": {},
   "outputs": [
    {
     "data": {
      "image/png": "[encoded data removed]",
      "text/plain": [
       "<Figure size 700x350 with 10 Axes>"
      ]
     },
     "metadata": {},
     "output_type": "display_data"
    }
   ],
   "source": [
    "figure = plt.figure(figsize=(7, 3.5))\n",
    "rows, cols= 2, 5\n",
    "for k in range(10):\n",
    "    img = mus[k, :].reshape(28, 28)\n",
    "    figure.add_subplot(rows, cols, k+1)\n",
    "    # plt.title(k)\n",
    "    plt.axis(\"off\")\n",
    "    plt.imshow(img, cmap=\"gray\")\n",
    "plt.show()"
   ]
  },
  {
   "cell_type": "code",
   "execution_count": 265,
   "id": "0d3cf80d",
   "metadata": {},
   "outputs": [],
   "source": [
    "zs = QDA_predict(X_mnist_test, pis, mus, sse)"
   ]
  },
  {
   "cell_type": "code",
   "execution_count": 266,
   "id": "c30649b0",
   "metadata": {},
   "outputs": [],
   "source": [
    "accuracy = accuracy_score(zs, Y_mnist_test)"
   ]
  },
  {
   "cell_type": "code",
   "execution_count": 267,
   "id": "299e97ba",
   "metadata": {},
   "outputs": [
    {
     "name": "stdout",
     "output_type": "stream",
     "text": [
      "Accuracy : 0.676\n"
     ]
    }
   ],
   "source": [
    "print(\"Accuracy :\", accuracy)"
   ]
  }
 ],
 "metadata": {
  "kernelspec": {
   "display_name": "myenv",
   "language": "python",
   "name": "python3"
  },
  "language_info": {
   "codemirror_mode": {
    "name": "ipython",
    "version": 3
   },
   "file_extension": ".py",
   "mimetype": "text/x-python",
   "name": "python",
   "nbconvert_exporter": "python",
   "pygments_lexer": "ipython3",
   "version": "3.9.21"
  }
 },
 "nbformat": 4,
 "nbformat_minor": 5
}
