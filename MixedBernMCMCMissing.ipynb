{
 "cells": [
  {
   "cell_type": "markdown",
   "id": "ecc3e48c",
   "metadata": {},
   "source": [
    "This notebook implements three Gibbs sampling algorithms for MNIST clustering with missing data (pixels)  \n",
    "1) Uncollapsed Gibbs where we sample missing pixels in each iteration to produce an augmented dataset for sampling Bernoulli biases and latent cluster assignments\n",
    "2) Uncollapsed Gibbs where we ignore missing pixels in each iteration, using only observed pixels for sampling Bernoulli biases and latent cluster assignments, effectively marginalizing out missing pixels\n",
    "3) Collapsed Gibbs where we sample missing pixels in each iteration to produce an augmented dataset for sampling latent cluster assignments"
   ]
  },
  {
   "cell_type": "code",
   "execution_count": 1,
   "id": "ac9d5593",
   "metadata": {},
   "outputs": [],
   "source": [
    "%matplotlib inline\n",
    "# %matplotlib notebook\n",
    "%config Completer.use_jedi = False\n",
    "import matplotlib.pyplot as plt\n",
    "import numpy as np\n",
    "import pandas as pd\n",
    "\n",
    "\n",
    "from scipy.special import logsumexp\n",
    "from scipy.special import softmax\n",
    "from scipy.special import betaln\n",
    "from scipy.special import beta\n",
    "\n",
    "import numpy.linalg as linalg\n",
    "from sklearn.cluster import KMeans\n",
    "from sklearn import metrics\n",
    "import scipy.sparse as sparse\n",
    "import random\n",
    "\n",
    "from collections import Counter\n",
    "\n",
    "\n",
    "from sklearn.metrics import accuracy_score, precision_recall_fscore_support\n",
    "from sklearn.metrics import confusion_matrix\n",
    "\n",
    "import matplotlib.pyplot as plt\n",
    "import seaborn as sns"
   ]
  },
  {
   "cell_type": "code",
   "execution_count": 2,
   "id": "5b00f644",
   "metadata": {},
   "outputs": [],
   "source": [
    "random_seed = 123\n",
    "rng = np.random.default_rng(random_seed)"
   ]
  },
  {
   "cell_type": "code",
   "execution_count": 3,
   "id": "817d52e1",
   "metadata": {},
   "outputs": [],
   "source": [
    "from sklearn.datasets import fetch_openml\n",
    "mnist = fetch_openml('mnist_784', parser ='auto')"
   ]
  },
  {
   "cell_type": "code",
   "execution_count": 4,
   "id": "7033b18d",
   "metadata": {},
   "outputs": [],
   "source": [
    "X_mnist = np.array(mnist.data) > 0.5 # binary-rise the data\n",
    "Y_mnist = np.array(mnist.target, dtype ='int')\n",
    "X_mnist_train = X_mnist[:4000, :] # use the first 4000 images as training data\n",
    "Y_mnist_train = Y_mnist[:4000]\n",
    "X_mnist_test = X_mnist[4000:5000, :] # the next 1000 as testing\n",
    "Y_mnist_test = Y_mnist[4000:5000]"
   ]
  },
  {
   "cell_type": "code",
   "execution_count": 5,
   "id": "39269dde",
   "metadata": {},
   "outputs": [],
   "source": [
    "X_mnist_cover1 = np.empty_like(X_mnist_train, dtype='f')\n",
    "X_mnist_cover1[:] = X_mnist_train\n",
    "for i in range(0,len(X_mnist_cover1)):\n",
    "    indices = random.sample(range(0,784), 784//2)\n",
    "    X_mnist_cover1[i][indices] = np.nan"
   ]
  },
  {
   "cell_type": "code",
   "execution_count": 6,
   "id": "87db36da",
   "metadata": {},
   "outputs": [
    {
     "data": {
      "image/png": "[encoded data removed]",
      "text/plain": [
       "<Figure size 700x350 with 10 Axes>"
      ]
     },
     "metadata": {},
     "output_type": "display_data"
    }
   ],
   "source": [
    "figure = plt.figure(figsize=(7, 3.5))\n",
    "rows, cols= 2, 5\n",
    "for k in range(10):\n",
    "    img = X_mnist_cover1[k, :].reshape(28, 28)\n",
    "    figure.add_subplot(rows, cols, k+1)\n",
    "    plt.title(k)\n",
    "    plt.axis(\"off\")\n",
    "    plt.imshow(img, cmap=\"gray\")\n",
    "plt.show()"
   ]
  },
  {
   "cell_type": "markdown",
   "id": "7f764c24",
   "metadata": {},
   "source": [
    "## Likelihood Functions"
   ]
  },
  {
   "cell_type": "code",
   "execution_count": 7,
   "id": "64f2b1d8",
   "metadata": {},
   "outputs": [],
   "source": [
    "def bernoulli_loglike(X, θ, π):\n",
    "    # Compute Categorical Distribution over components for each row using SoftMax\n",
    "    logp  = np.log(π) + (X @ np.log(θ).T + (1 - X) @ np.log(1 - θ).T) # log likelihood\n",
    "    logp -= logp.max(axis=1, keepdims=True) # reduce logits for numerical stability (invariance property)\n",
    "    p     = np.exp(logp)\n",
    "    p    /= p.sum(axis=1, keepdims=True) # normalize\n",
    "\n",
    "    return p"
   ]
  },
  {
   "cell_type": "code",
   "execution_count": 8,
   "id": "4f9595be",
   "metadata": {},
   "outputs": [],
   "source": [
    "def bernoulli_loglike_missing(X, θ, π, missing_mask):\n",
    "    N,D = X.shape\n",
    "    K,_ = θ.shape \n",
    "    log_ps = np.zeros((N,K))\n",
    "\n",
    "    for i in range(N):\n",
    "        for k in range(K):\n",
    "            mask = np.where(~missing_mask[i])[0]\n",
    "\n",
    "            log_ps[i,k] = np.log(π[k]) + np.sum((X[i] * np.log(θ[k]))[mask]) + np.sum(((1 - X[i]) * np.log(1 - θ[k]))[mask])\n",
    "\n",
    "    log_ps -= log_ps.max(axis=1, keepdims=True) # reduce logits for numerical stability (invariance property)\n",
    "    p     = np.exp(log_ps)\n",
    "    p    /= p.sum(axis=1, keepdims=True) # normalize  \n",
    "\n",
    "    return p\n"
   ]
  },
  {
   "cell_type": "markdown",
   "id": "a3b7e73c",
   "metadata": {},
   "source": [
    "# 1 Un-Collapsed Gibbs Sampling (Sampling Missing Pixels)"
   ]
  },
  {
   "cell_type": "markdown",
   "id": "d98e5184",
   "metadata": {},
   "source": [
    "1) Initialize \n",
    "\n",
    "    * $\\boldsymbol{\\alpha} = [\\alpha_1 = \\frac{1}{K},...,\\alpha_K = \\frac{1}{K}]$\n",
    "    * $a,b = \\frac{1}{2}$\n",
    "    * $\\boldsymbol{\\pi} \\sim \\mathbf{Dirichlet}(\\boldsymbol{\\alpha})$\n",
    "    * $\\boldsymbol{\\theta} \\sim \\mathbf{Beta}(\\mathbf{a,b})$\n",
    "    * For $i\\in{1,...,N}$\n",
    "        * $z_i \\sim \\mathbf{Categorical}(\\boldsymbol{\\pi})$\n",
    "    * For $i\\in{1,...,N}$\n",
    "        * $\\mathbf{x}_{i,H} \\sim \\mathbf{Bernoulli}(\\theta_{z_i})$\n",
    "\n",
    "2) For $t = 1,\\dots,N$\n",
    "\n",
    "$$\n",
    "\\begin{align}\n",
    "  \\text{Sample } \\boldsymbol{\\pi}^{(t)}\n",
    "    &\\sim P(\\boldsymbol{\\pi}\\mid\\boldsymbol{z}^{(t-1)})\n",
    "      = \\mathrm{Dirichlet}\\bigl(\\boldsymbol{\\alpha}_N^{(t-1)}\\bigr) \\\\\n",
    "  \\boldsymbol{\\alpha}_N^{(t-1)}\n",
    "    &= \\bigl[\\alpha_0^1+n_1,\\;\\alpha_0^2+n_2,\\;\\dots,\\;\\alpha_0^K+n_K\\bigr],\n",
    "       \\; n_k^{(t-1)}=\\sum_{i=1}^N\\mathbf 1(z_i^{(t-1)}=k) \\\\\\\\[6pt]\n",
    "\n",
    "\n",
    "  \\text{Sample } \\boldsymbol{\\pi}^{(t)} &\\sim P(\\boldsymbol{\\pi} | \\boldsymbol{z}^{(t-1)}) = \\mathrm{Dirichlet}(\\boldsymbol{\\alpha}_N^{(t-1)}) \\\\\n",
    "        \\boldsymbol{\\alpha}_N^{(t-1)} &= \\left[\\alpha_0^1 + n_1,\\, \\alpha_0^2 + n_2,\\, \\dots,\\, \\alpha_0^K + n_K \\right],\n",
    "        \\quad \\text{where} \\quad\n",
    "        n_k^{(t-1)} = \\sum_{i=1}^N \\mathbb{1}(z_i^{(t-1)} = k) \\\\\\\\\n",
    "\n",
    "    \\text{Sample }\\mathbf X^{(t)}\n",
    "        &\\sim P(\\mathbf X\\mid\\mathbf z^{(t-1)},\\boldsymbol{\\theta}^{(t-1)}) \\\\\n",
    "    \\text{for } i &\\in \\{1,\\dots,N\\}: \\;\n",
    "        \\mathbf x_{H,i}^{(t)}\\sim\\mathrm{Bernoulli}\\bigl(\\theta^{(t-1)}_{z_i^{(t-1)}}\\bigr)\\\\\n",
    "\n",
    "    \\text{Sample } \\boldsymbol{\\theta}^{(t)} &\\sim P(\\boldsymbol{\\theta}|\\mathbf{X}^{(t)},\\mathbf{z}^{(t-1)}) = \\prod_k^K \\prod_d^D \\mathrm{Beta}(a_{k,d} + n_{k,d}^{(1)}, b_{k,d} + n_{k,d}^{(0)}), \\quad \\text{where}\\\\\n",
    "        &n_{k,d}^{(1)} = \\sum_{i=1}^N \\mathbb{1}(x_{i,d}^{(t)} = 1, z_i^{(t-1)} = k)\\\\\n",
    "        &n_{k,d}^{(0)} = \\sum_{i=1}^N \\mathbb{1}(x_{i,d}^{(t)} = 0, z_i^{(t-1)} = k)\\\\\\\\\n",
    "\n",
    "\n",
    "  \\text{Sample }\\mathbf z^{(t)}\n",
    "    &\\sim P(\\mathbf z\\mid\\mathbf X^{(t)},\\boldsymbol{\\pi}^{(t)},\\boldsymbol{\\theta}^{(t)}) \\\\\n",
    "  \\text{for } i &\\in \\{1,\\dots,N\\}: \\;\n",
    "    z_i^{(t)}\\sim\\text{Categorical}(p_1^{(i)},\\dots,p_K^{(i)}), \\\\[2pt]\n",
    "    &\\qquad\n",
    "    p_k^{(i)}\\propto \\pi_k^{(t)}\n",
    "      \\prod_{d=1}^D\n",
    "      (\\theta_{k,d}^{(t)})^{x_{i,d}^{(t)}}\n",
    "      (1-\\theta_{k,d}^{(t)})^{1-x_{i,d}^{(t)}} \\\\\\\\[6pt]\n",
    "\\end{align}\n",
    "$$\n",
    "\n",
    "3) Discard burn-in samples\n"
   ]
  },
  {
   "cell_type": "code",
   "execution_count": 9,
   "id": "391d9f92",
   "metadata": {},
   "outputs": [],
   "source": [
    "def sample_π(zs, α_0, K):\n",
    "    ''' \n",
    "        Samples mixing weights from Dirichlet distribution parameterized by pseudocounts of components\n",
    "        \n",
    "        @param (zs)  : cluster assignments (n)\n",
    "        @param (α_0) : Dirichlet prior list (K)\n",
    "        @param (K)   : the number of components\n",
    "    '''\n",
    "\n",
    "    z_counts = np.bincount(zs.astype(np.int64), minlength=K)\n",
    "    return rng.dirichlet(α_0 + z_counts)"
   ]
  },
  {
   "cell_type": "code",
   "execution_count": 10,
   "id": "7049605c",
   "metadata": {},
   "outputs": [],
   "source": [
    "def sampleZs(p):\n",
    "    ''' \n",
    "        Samples cluster assignments z for n datapoints \n",
    "\n",
    "        @param (p) : softmax categorical probabilities over clusters (N, K)\n",
    "    '''\n",
    "\n",
    "    # Inverse sample from categorical distribution\n",
    "    cdf = np.cumsum(p, axis=1) # compute CDF for each row (each categorical distribution)\n",
    "    u   = rng.random(size=(p.shape[0], 1))\n",
    "    return (cdf > u).argmax(axis=1)  # return first index where cdf is greater than random u"
   ]
  },
  {
   "cell_type": "code",
   "execution_count": 11,
   "id": "1810977a",
   "metadata": {},
   "outputs": [],
   "source": [
    "def sample_X_missing(z, θ, X, missing_mask):\n",
    "    n, D = X.shape\n",
    "    X_sample = X.copy()\n",
    "\n",
    "    θ_indexed = θ[z]  # shape (n, D)\n",
    "\n",
    "    sampled = np.random.binomial(1, θ_indexed)\n",
    "\n",
    "    X_sample[missing_mask] = sampled[missing_mask]\n",
    "\n",
    "    return X_sample"
   ]
  },
  {
   "cell_type": "code",
   "execution_count": 12,
   "id": "eac8dec6",
   "metadata": {},
   "outputs": [],
   "source": [
    "def sample_θ(X, zs, a_mat, b_mat, K) :\n",
    "    ''' \n",
    "        Samples θs from multivariate Beta distribution\n",
    "\n",
    "        @param (X)     : data matrix (nxd)\n",
    "        @param (zs)    : component assignments (n)\n",
    "        @param (a_mat) : multi-var beta prior for a (K, d)\n",
    "        @param (b_mat) : multi-var beta prior for b (K, d)\n",
    "        @param (K)     : the number of components\n",
    "    '''\n",
    "\n",
    "    n,d=X.shape\n",
    "\n",
    "    zs_zerohot = np.eye(K)[zs.astype(np.int64)]\n",
    "\n",
    "    nk = np.sum(zs_zerohot, axis=0)\n",
    "    nkd1 = zs_zerohot.T @ X\n",
    "    nkd0 = nk[:, None]- nkd1\n",
    "    \n",
    "    return rng.beta(a_mat + nkd1, b_mat + nkd0)"
   ]
  },
  {
   "cell_type": "code",
   "execution_count": 14,
   "id": "c5cd59f5",
   "metadata": {},
   "outputs": [],
   "source": [
    "def gibbs_missing(X, num_iter, num_burn, K=10, rng=np.random.default_rng(random_seed), eps=1e-20) :\n",
    "    n, d = X.shape\n",
    "\n",
    "    missing_mask = np.isnan(X) # (n,d)\n",
    "\n",
    "    πs = np.zeros((num_iter + num_burn, K))\n",
    "    zs = np.zeros((num_iter + num_burn, n), dtype=np.int16)\n",
    "    θs = np.zeros((num_iter + num_burn, K, d))\n",
    "    Xs = np.zeros((num_iter + num_burn, n, d))\n",
    "\n",
    "    # Intialize\n",
    "    α_0 = np.full(K, 1 / K, dtype=np.float64)  # Dirichlet\n",
    "    a_mat  = np.full((K, d), 1) # Beta\n",
    "    b_mat  = np.full((K, d), 1) # Beta\n",
    "\n",
    "    πs[0] = rng.dirichlet(α_0)\n",
    "    R = rng.random((K,d))\n",
    "    θs[0] = R/np.sum(R, axis=1, keepdims=True)\n",
    "    zs[0] = np.random.randint(0,K,size=n)\n",
    "    Xs[0] = sample_X_missing(zs[0],θs[0],X,missing_mask)\n",
    "\n",
    "    for t in range(1,num_iter+num_burn):\n",
    "        πs[t] = sample_π(zs[t-1], α_0, 10)\n",
    "\n",
    "        θs[t] = sample_θ(Xs[t-1], zs[t-1], a_mat, b_mat, K)\n",
    "        \n",
    "        zs[t] = sampleZs(bernoulli_loglike(X, θs[t],πs[t])).astype(np.int16)\n",
    "\n",
    "        Xs[t] = sample_X_missing(zs[t],θs[t],X,missing_mask)\n",
    "    \n",
    "    return πs[num_burn:], θs[num_burn:], zs[num_burn:], Xs[num_burn:]"
   ]
  },
  {
   "cell_type": "code",
   "execution_count": 16,
   "id": "a844e1be",
   "metadata": {},
   "outputs": [],
   "source": [
    "πs,θs,zs,xs= gibbs_missing(X_mnist_cover1, 400, 4, 10)"
   ]
  },
  {
   "cell_type": "code",
   "execution_count": 22,
   "id": "cee6cd5b",
   "metadata": {},
   "outputs": [
    {
     "data": {
      "image/png": "[encoded data removed]",
      "text/plain": [
       "<Figure size 640x480 with 1 Axes>"
      ]
     },
     "metadata": {},
     "output_type": "display_data"
    }
   ],
   "source": [
    "scores = [metrics.adjusted_rand_score(Y_mnist_train, zs[i]) for i in range(0,len(zs))]\n",
    "plt.plot(scores)\n",
    "plt.title(\"Traceplot of zs\")\n",
    "plt.show()"
   ]
  },
  {
   "cell_type": "markdown",
   "id": "ef3bc684",
   "metadata": {},
   "source": [
    "# 2 Un-Collapsed Gibbs Sampling (Marginalizing missing pixels)"
   ]
  },
  {
   "cell_type": "markdown",
   "id": "c3f8b345",
   "metadata": {},
   "source": [
    "Joint Posterior \n",
    "\n",
    "$$\\begin{align}\n",
    "    p(\\boldsymbol{\\pi},\\boldsymbol{\\theta},\\mathbf{z}|\\mathbf{X},\\boldsymbol{\\alpha},a,b) \\propto p(\\mathbf{X}|\\mathbf{z},\\boldsymbol{\\theta}) p(\\mathbf{z}|\\boldsymbol{\\pi}) p(\\boldsymbol{\\pi}|\\boldsymbol{\\alpha}) p(\\boldsymbol{\\theta}|a,b)\n",
    "\\end{align}$$"
   ]
  },
  {
   "cell_type": "markdown",
   "id": "5098860e",
   "metadata": {},
   "source": [
    "Routine\n",
    "\n",
    "1) Initialize \n",
    "$$\\begin{align}\n",
    "    \\boldsymbol{\\alpha} &= [\\alpha_1 = \\frac{1}{K},...,\\alpha_K = \\frac{1}{K}]\\\\\n",
    "    a,b &= \\frac{1}{2}\\\\\n",
    "    \\boldsymbol{\\pi} &\\sim \\mathcal{Dirichlet}(\\boldsymbol{\\alpha}) \\\\\n",
    "    \\boldsymbol{\\theta} &\\sim \\mathcal{Beta}(a,b)\\\\\n",
    "    \\boldsymbol{z} &\\sim \\mathcal{Cat}(\\boldsymbol{\\pi})\n",
    "\\end{align}$$\n"
   ]
  },
  {
   "cell_type": "markdown",
   "id": "f6b0a715",
   "metadata": {},
   "source": [
    "\n",
    "2) For $t=1,..,N$\n",
    "$$\\begin{align}\n",
    "    \\text{Sample } \\boldsymbol{\\pi}^{(t)} &\\sim P(\\boldsymbol{\\pi} | \\boldsymbol{z}^{(t-1)}) = \\mathrm{Dirichlet}(\\boldsymbol{\\alpha}_N^{(t-1)}) \\\\\n",
    "        \\boldsymbol{\\alpha}_N^{(t-1)} &= \\left[\\alpha_0^1 + n_1,\\, \\alpha_0^2 + n_2,\\, \\dots,\\, \\alpha_0^K + n_K \\right],\n",
    "        \\quad \\text{where} \\quad\n",
    "        n_k^{(t-1)} = \\sum_{i=1}^N \\mathbb{1}(z_i^{(t-1)} = k) \\\\\\\\\n",
    "\n",
    "    \\text{Sample }\\mathbf X^{(t)}\n",
    "        &\\sim P(\\mathbf X\\mid\\mathbf z^{(t-1)},\\boldsymbol{\\theta}^{(t-1)}) \\\\\n",
    "    \\text{for } i &\\in \\{1,\\dots,N\\}: \\;\n",
    "        \\mathbf x_{H,i}^{(t)}\\sim\\mathrm{Bernoulli}\\bigl(\\theta^{(t-1)}_{z_i^{(t-1)}}\\bigr)\\\\\n",
    "\n",
    "    \\text{Sample } \\boldsymbol{\\theta}^{(t)} &\\sim P(\\boldsymbol{\\theta}|\\mathbf{X}^{(t)},\\mathbf{z}^{(t-1)}) = \\prod_k^K \\prod_d^D \\mathrm{Beta}(a_{k,d} + n_{k,d}^{(1)}, b_{k,d} + n_{k,d}^{(0)}), \\quad \\text{where}\\\\\n",
    "        &n_{k,d}^{(1)} = \\sum_{i=1}^N \\mathbb{1}(x_{i,d}^{(t)} = 1, z_i^{(t-1)} = k)\\\\\n",
    "        &n_{k,d}^{(0)} = \\sum_{i=1}^N \\mathbb{1}(x_{i,d}^{(t)} = 0, z_i^{(t-1)} = k)\\\\\\\\\n",
    "\n",
    "    \\text{Sample } \\mathbf{z}^{(t)} \\sim &P(\\mathbf{z}|\\mathbf{X}_O,\\boldsymbol{\\pi}^{(t)}, \\boldsymbol{\\theta}^{(t)})\\\\\n",
    "\n",
    "        \\text{For } i &\\in {1,..,N} \\text{ and } d \\in {\\mathbf{X}_O}\\\\\n",
    "            &\\text{Sample } z_i^{(t)} \\sim \\text{Categorical}(p_1^{(i)},...,p_K^{(i)}) \\quad \\text{where,}\\\\\n",
    "                &\\qquad p_k^{(i)} \\propto \\pi_k^{(t)} \\prod_{d=1}^D (\\theta_{k,d}^{(t)})^{x_{i,d}}(1-\\theta_{k,d}^{(t)})^{(1 - x_{i,d})}\\\\\\\\\n",
    "\n",
    "\\end{align}$$"
   ]
  },
  {
   "cell_type": "markdown",
   "id": "7d1ae754",
   "metadata": {},
   "source": [
    "3. Discard burn-in samples"
   ]
  },
  {
   "cell_type": "code",
   "execution_count": 83,
   "id": "8732c32f",
   "metadata": {},
   "outputs": [],
   "source": [
    "def sample_θ(X, zs, a_mat, b_mat, K) :\n",
    "    ''' \n",
    "        Samples θs from multivariate Beta distribution\n",
    "\n",
    "        @param (X)     : data matrix (nxd)\n",
    "        @param (zs)    : component assignments (n)\n",
    "        @param (a_mat) : multi-var beta prior for a (K, d)\n",
    "        @param (b_mat) : multi-var beta prior for b (K, d)\n",
    "        @param (K)     : the number of components\n",
    "    '''\n",
    "\n",
    "    n,d=X.shape\n",
    "\n",
    "    zs_zerohot = np.eye(K)[zs.astype(np.int64)]\n",
    "\n",
    "    nk = np.sum(zs_zerohot, axis=0)\n",
    "    nkd1 = zs_zerohot.T @ X\n",
    "    nkd0 = nk[:, None]- nkd1\n",
    "    \n",
    "    return rng.beta(a_mat + nkd1, b_mat + nkd0)"
   ]
  },
  {
   "cell_type": "code",
   "execution_count": null,
   "id": "8c205e04",
   "metadata": {},
   "outputs": [],
   "source": [
    "\n",
    "def sample_θ(X, zs, a_mat, b_mat, K, missing_mask) :\n",
    "    n,D=X.shape\n",
    "    obs_mask = ~missing_mask\n",
    "\n",
    "    zs_zerohot = np.eye(K)[zs.astype(np.int64)]\n",
    "\n",
    "    obs_k = zs_zerohot.T @ obs_mask\n",
    "\n",
    "    nkd1 = zs_zerohot.T @ np.nan_to_num(X * obs_mask, nan=0)\n",
    "\n",
    "    nkd0 = obs_k - nkd1\n",
    "\n",
    "    return rng.beta(a_mat + nkd1, b_mat + nkd0)"
   ]
  },
  {
   "cell_type": "code",
   "execution_count": 20,
   "id": "ff3d0698",
   "metadata": {},
   "outputs": [],
   "source": [
    "def sample_X_missing(z, θ, X, missing_mask):\n",
    "    n, D = X.shape\n",
    "    X_sample = X.copy()\n",
    "\n",
    "    θ_indexed = θ[z]  # shape (n, D)\n",
    "\n",
    "    sampled = np.random.binomial(1, θ_indexed)\n",
    "\n",
    "    X_sample[missing_mask] = sampled[missing_mask]\n",
    "\n",
    "    return X_sample"
   ]
  },
  {
   "cell_type": "code",
   "execution_count": 29,
   "id": "e0d0ae43",
   "metadata": {},
   "outputs": [],
   "source": [
    "def gibbs_missing(X, num_iter, num_burn, K=10, rng=np.random.default_rng(random_seed), eps=1e-20) :\n",
    "    n, d = X.shape\n",
    "\n",
    "    missing_mask = np.isnan(X) # (n,d)\n",
    "\n",
    "    πs = np.zeros((num_iter + num_burn, K))\n",
    "    zs = np.zeros((num_iter + num_burn, n), dtype=np.int16)\n",
    "    θs = np.zeros((num_iter + num_burn, K, d))\n",
    "\n",
    "    # Intialize\n",
    "    α_0 = np.full(K, 1 / K, dtype=np.float64)  # Dirichlet\n",
    "    a_mat  = np.full((K, d), 1) # Beta\n",
    "    b_mat  = np.full((K, d), 1) # Beta\n",
    "\n",
    "    πs[0] = rng.dirichlet(α_0)\n",
    "    R = rng.random((K,d))\n",
    "    θs[0] = R/np.sum(R, axis=1, keepdims=True)\n",
    "    zs[0] = np.random.randint(0,K,size=n)\n",
    "\n",
    "    for t in range(1,num_iter+num_burn):\n",
    "\n",
    "        πs[t] = sample_π(zs[t-1], α_0, K)\n",
    "\n",
    "        θs[t] = sample_θ(X, zs[t-1], a_mat, b_mat, K, missing_mask)\n",
    "        \n",
    "        zs[t] = sampleZs(bernoulli_loglike(X, θs[t],πs[t],missing_mask)).astype(np.int16)\n",
    "    \n",
    "    return πs[num_burn:], θs[num_burn:], zs[num_burn:]"
   ]
  },
  {
   "cell_type": "code",
   "execution_count": null,
   "id": "86f20e20",
   "metadata": {},
   "outputs": [],
   "source": [
    "πs,θs,zs= gibbs_missing(X_mnist_cover1, 400, 4, 10)"
   ]
  },
  {
   "cell_type": "code",
   "execution_count": 31,
   "id": "685032c6",
   "metadata": {},
   "outputs": [
    {
     "data": {
      "image/png": "[encoded data removed]",
      "text/plain": [
       "<Figure size 640x480 with 1 Axes>"
      ]
     },
     "metadata": {},
     "output_type": "display_data"
    }
   ],
   "source": [
    "scores = [metrics.adjusted_rand_score(Y_mnist_train, zs[i]) for i in range(0,len(zs))]\n",
    "plt.plot(scores)\n",
    "plt.title(\"Traceplot of zs\")\n",
    "plt.show()"
   ]
  },
  {
   "cell_type": "code",
   "execution_count": 32,
   "id": "3c71ae14",
   "metadata": {},
   "outputs": [
    {
     "data": {
      "text/plain": [
       "0.3172723784911137"
      ]
     },
     "execution_count": 32,
     "metadata": {},
     "output_type": "execute_result"
    }
   ],
   "source": [
    "metrics.adjusted_rand_score(Y_mnist_train, zs[-1])"
   ]
  },
  {
   "cell_type": "markdown",
   "id": "28a76a17",
   "metadata": {},
   "source": [
    "# 3 Uncollapsed Gibbs With Missing Data"
   ]
  },
  {
   "cell_type": "markdown",
   "id": "a25d9abf",
   "metadata": {},
   "source": [
    "Goal is to integrate out $\\theta$ and $\\pi$ so we can directly just sample $z$ alone.\n",
    "\n",
    "Full Posterior:\n",
    "$$\n",
    "    P(\\boldsymbol{\\pi},\\boldsymbol{\\theta},\\mathbf{z}|\\mathbf{X},\\mathbf{a},\\mathbf{b},\\boldsymbol{\\alpha})\\propto \\underbrace{p(\\mathbf{X}|\\mathbf{z},\\mathbf{\\theta}) p(\\mathbf{\\theta}|a,b)}_{\\text{Conjugacy}} \\underbrace{p(\\mathbf{z}|\\mathbf{\\pi}) p(\\mathbf{\\pi}|\\mathbf{\\alpha})}_{\\text{Conjugacy}}\n",
    "$$\n",
    "\n",
    "Goal\n",
    "\n",
    "$$\\begin{align}\n",
    "    P(\\mathbf{z}|\\mathbf{X}) = \\int\\int P(\\boldsymbol{\\pi},\\boldsymbol{\\theta},\\mathbf{z}|\\mathbf{X},\\mathbf{a},\\mathbf{b},\\boldsymbol{\\alpha})d\\mathbf{\\theta}d\\mathbf{\\pi}\n",
    "\\end{align}$$"
   ]
  },
  {
   "cell_type": "markdown",
   "id": "352d74af",
   "metadata": {},
   "source": [
    "---"
   ]
  },
  {
   "cell_type": "markdown",
   "id": "9dfca7cf",
   "metadata": {},
   "source": [
    "## Beta-Binomial Conjugacy:\n",
    "$$\\begin{align}\n",
    "    \\underset{Binomial}{P(\\mathbf{X}|\\mathbf{z},\\boldsymbol{\\theta})}&\\underset{Beta}{P(\\boldsymbol{\\theta}|\\mathbf{a},\\mathbf{b})} &= \n",
    "        \\left[ \\prod_{i}^{N} \\prod_{d}^{D} \\theta_{d,z_i}^{x_{d,i}} (1 - \\theta_{d,z_i})^{(1 - x_{d,i})} \\right]\\left[ \\prod_{k}^{K} \\prod_{d}^{D} \\frac{\\theta_{d,k}^{(a_{d,k}-1)}(1-\\theta_{d,k})^{(b_{d,k} - 1)}}{B(a_{d,k},b_{d,k})} \\right]\n",
    "\\end{align}$$\n",
    "\n",
    "$\\quad$ Let $n_{d,k}^{(1)} = \\sum_{i}^{N} \\mathbb{1}(z_i = k, x_{d,i} = 1)$,  hence $\\quad \\prod_{i}^{N} \\theta_{d,z_i}^{x_{d,i}} = \\prod_{k}^{K} \\theta_{d,k}^{n_{d,k}^{(1)}}$\n",
    "\n",
    "$$\\begin{align}\n",
    "     &= \\left[ \\prod_{k}^{K} \\prod_{d}^{D} \\theta_{d,k}^{n_{d,k}^{(1)}} (1 - \\theta_{d,k})^{n_{d,k}^{(0)}} \\right] \\left[ \\prod_{k}^{K} \\prod_{d}^{D} \\frac{\\theta_{d,k}^{(a_{d,k}-1)}   (1-\\theta_{d,k})^{(b_{d,k} - 1)}}{B(a_{d,k},b_{d,k})} \\right]\\\\\n",
    "\n",
    "    &= \\prod_{k}^{K} \\prod_{d}^{D} \\left(\\frac{1}{B(a_{d,k},b_{d,k})} \\right) \\theta_{d,k}^{(a_{d,k}+n_{d,k}^{(1)}-1)} (1-\\theta_{d,k})^{(b_{d,k} + n_{d,k}^{(0)}-1)}\n",
    "\\end{align}$$\n",
    "\n",
    "$\\quad$ Let $\\mathbf{a},\\mathbf{b},\\boldsymbol{\\theta},\\mathbf{n^{(0)}},\\mathbf{n^{(1)}}$ be $(k \\times d)$ matrices. E.g.  $B(\\mathbf{a},\\mathbf{b})=\\prod_k^{K}\\prod_{d}^{D} B(a_{d,k},b_{d,k})$\n",
    "\n",
    "$$\\begin{align}\n",
    "    &= \\frac{1}{B(\\mathbf{a},\\mathbf{b})}\\boldsymbol{\\theta}^{(\\mathbf{a} + \\mathbf{n}^{(1)}-1)}(1 - \\boldsymbol{\\theta})^{(\\mathbf{b} + \\mathbf{n}^{(0)} - 1)}\n",
    "\\end{align}$$\n",
    "\n",
    "#### Integrate Out $\\theta$\n",
    "\n",
    "$$\\begin{align}\n",
    "    P(\\mathbf{X}|\\mathbf{z}) &= \\int P(\\mathbf{X}|\\mathbf{z},\\boldsymbol{\\theta})P(\\boldsymbol{\\theta}|\\mathbf{a},\\mathbf{b})d\\boldsymbol{\\theta}\\\\\\\\\n",
    "                             &= \\int \\frac{1}{B(\\mathbf{a},\\mathbf{b})} \\boldsymbol{\\theta}^{(\\mathbf{a} + \\mathbf{n}^{(1)} -1)}(1 - \\boldsymbol{\\theta})^{(\\mathbf{b} +    \\mathbf{n}^{(0)} - 1)}d\\boldsymbol{\\theta}\\\\\\\\\n",
    "                             &= \\frac{1}{B(\\mathbf{a},\\mathbf{b})} \\underbrace{\\int \\boldsymbol{\\theta}^{(\\mathbf{a} + \\mathbf{n}^{(1)} -1)}(1 - \\boldsymbol{\\theta})^{(\\mathbf{b} + \\mathbf{n}^{(0)} - 1)}d\\boldsymbol{\\theta}}_{\\text{Beta Function (Normalization Term)}}\\\\\\\\\n",
    "                             &= \\frac{B(\\mathbf{a} + \\mathbf{n}^{(1)}, \\mathbf{b} + \\mathbf{n}^{(0)})}{B(\\mathbf{a},\\mathbf{b})}\\\\\\\\\n",
    "                             &= \\prod_k^K \\prod_d^D \\frac{B(a_{k,d} + n_{k,d}^{(1)}, b_{k,d} + n_{k,d}^{(0)})}{B(a_{k,d},b_{k,d})}\n",
    "\\end{align}$$"
   ]
  },
  {
   "cell_type": "markdown",
   "id": "3112a3e1",
   "metadata": {},
   "source": [
    "---\n",
    "## Dirichlet-Categorical Conjugacy\n",
    "\n",
    "$$\n",
    "    P(\\mathbf{z}|\\boldsymbol{\\pi})P(\\boldsymbol{\\pi}|\\boldsymbol{\\alpha}) = \\left[ \\prod_{i}^{N} \\pi_{z_i}\\right] \\left[ \\frac{1}{B(\\boldsymbol{\\alpha})} \\prod_{k}^{K} \\pi_k^{\\alpha_k - 1} \\right]\n",
    "$$\n",
    "\n",
    "$\\quad$ Let $n_{k} = \\sum_{i}^{N} \\mathbb{1}(z_i = 1) \\quad$ hence $\\quad \\prod_i^N \\pi_{z_i} = \\prod_k^K \\pi_k^{n_k}$\n",
    "\n",
    "$$\\begin{align}\n",
    "    &= \\left[ \\prod_k^K \\pi_k^{n_k} \\right] \\left[ \\frac{1}{B(\\boldsymbol{\\alpha})} \\prod_k^K \\pi_k^{(\\alpha_k - 1)} \\right]\\\\\n",
    "    &= \\frac{1}{B(\\boldsymbol{\\alpha})} \\prod_k^K \\pi_k^{(\\alpha_k + n_k - 1)}\n",
    "\\end{align}$$\n",
    "\n",
    "\n",
    "### Integrate out $\\pi$\n",
    "\n",
    "$$\\begin{align}\n",
    "    P(\\mathbf{z}) &= \\int P(\\mathbf{z}|\\boldsymbol{\\pi})P(\\boldsymbol{\\pi})d\\boldsymbol{\\pi}\\\\\n",
    "                  &= \\int \\frac{1}{B(\\boldsymbol{\\alpha})} \\prod_k^K \\pi_k^{(\\alpha_k + n_k - 1)}d\\boldsymbol{\\pi}\\\\\n",
    "                  &= \\frac{1}{B(\\boldsymbol{\\alpha})} \\underbrace{\\int \\prod_k^K \\pi_k^{(\\alpha_k + n_k - 1)}d\\boldsymbol{\\pi}}_{\\text{Dirichlet Kernal (Normalization term)}}\\\\\n",
    "                  &= \\frac{B(\\boldsymbol{\\alpha} + n)}{B(\\boldsymbol{\\alpha})}\n",
    "\\end{align}$$"
   ]
  },
  {
   "cell_type": "markdown",
   "id": "cb63f1ca",
   "metadata": {},
   "source": [
    "---"
   ]
  },
  {
   "cell_type": "markdown",
   "id": "14ebd0aa",
   "metadata": {},
   "source": [
    "## Full Collapsed Conditional\n",
    "Integrating out common parent creates inter-dependence between children\n",
    "\n",
    "$$\\begin{align}\n",
    "    P(z_i | \\mathbf{z}_{-i}, \\mathbf{X}) &\\propto P(z_i, \\mathbf{z}_{-i}, \\mathbf{X})\\\\\\\\\n",
    "        &= P(\\mathbf{X}|\\mathbf{z}_{-i},z_i)P(z_{i}|\\mathbf{z}_{-i})\\\\\\\\\n",
    "        &= \\underbrace{P(x_i|\\mathbf{X}_{-i}, z_i, \\mathbf{z}_{-i})}_{\\text{Posterior Predictive Beta-Binomial}} \\times \\underbrace{P(z_{i}|\\mathbf{z}_{-i})}_{\\text{Posterior Predictive Dirichlet-Cat}}\n",
    "\\end{align}$$"
   ]
  },
  {
   "cell_type": "markdown",
   "id": "227aeb5a",
   "metadata": {},
   "source": [
    "#### Dirichlet-Categorical Collapsed Conditional\n",
    "\n",
    "$$\\begin{align}\n",
    "    P(z_i \\mid \\mathbf{z}_{-i}) &= \\frac{P(z_i, \\mathbf{z}_{-i})}{P(\\mathbf{z}_{-i})} = \\frac{P(\\mathbf{z})}{P(\\mathbf{z}_{-i})}\\\\\\\\\n",
    "\n",
    "    &= \\left[ \\frac{B(\\boldsymbol{\\alpha} + \\mathbf{n})}{B(\\boldsymbol{\\alpha})} \\right]\\left[ \\frac{B(\\boldsymbol{\\alpha})}{B(\\boldsymbol{\\alpha} + \\mathbf{n}_{-i})} \\right] = \\frac{B(\\boldsymbol{\\alpha} + \\mathbf{n})}{B(\\boldsymbol{\\alpha} + \\mathbf{n}_{-i})}\\\\\\\\\n",
    "\n",
    "    &= \\left[ \\frac{\\prod_k^K \\Gamma(\\alpha_k + n_k)}{\\Gamma(\\sum_j^K \\alpha_j + n_j)} \\right] \\left[ \\frac{\\Gamma(\\sum_j^K \\alpha_j + n_{-i,j})}{\\prod_k^K \\Gamma(\\alpha_k + n_{-i,k})} \\right]\n",
    "\\end{align}$$\n",
    "\n",
    "$\\qquad$ Note : $n_{-i,k} = \\sum_j \\mathbb{1}(z_n = k, j \\neq i) = n_k - 1$\n",
    "\n",
    "$$\\begin{align}\n",
    "     &= \\left[ \\frac{\\prod_k^K \\Gamma(\\alpha_k + n_{-i,k} + 1)}{\\Gamma(\\sum_j^K \\alpha_j + n_{-i,j} + 1)} \\right]\\left[ \\frac{\\Gamma(\\sum_j^K \\alpha_j + n_{-i,j})}{\\prod_k^K \\Gamma(\\alpha_k + n_{-i,k})} \\right]\n",
    "\\end{align}$$\n",
    "$\\qquad$ Hence,\n",
    "$$\\begin{align}\n",
    "     P(z_i = k | z_{-i}) &= \\left[ \\frac{\\Gamma(\\alpha_k + n_{-i,k} + 1)}{\\Gamma(\\sum_j^K \\alpha_j + n_{-i,j} + 1)} \\right]\\left[ \\frac{\\Gamma(\\sum_j^K \\alpha_j + n_{-i,j})}{\\Gamma(\\alpha_k + n_{-i,k})} \\right]\n",
    "\\end{align}$$\n",
    "\n",
    "$\\qquad$ Using $\\frac{\\Gamma(x + 1)}{\\Gamma(x)} = x$,\n",
    "\n",
    "$$\\begin{align}\n",
    "    &= \\frac{\\alpha_k + n_{-i,k}}{\\sum_j^K \\alpha_j + n_{-i,j}} \n",
    "\\end{align}$$\n",
    "\n",
    "\n",
    "#### Beta-Binomial Collapsed Conditional\n",
    "\n",
    "$$\\begin{align}\n",
    "    P(\\mathbf{x}_i | \\mathbf{X}_{-i}, z_i=k, \\mathbf{z}_{-i}) &= \\prod_d^D \\frac{B(a_{k,d} + n_{k,d}^{(1)} + x_{i,d}, \\quad b_{k,d} + n_{k,d}^{(0)} + 1 - x_{i,d})}{B(a_{k,d} + n_{k,d}^{(1)}, b_{k,d} + n_{k,d}^{(0)})}\n",
    "\\end{align}$$\n",
    "\n",
    "\n",
    "## Collapsed Conditional Posterior\n",
    "\n",
    "$$\\begin{align}\n",
    "    P(z_i = k | \\mathbf{z}_{-i}, \\mathbf{X}) &= P(\\mathbf{x}_i | \\mathbf{X}_{-i}, z_i=k, \\mathbf{z}_{-i})P(z_i=k|\\mathbf{z}_{-i}) \\\\ \n",
    "        &\\propto \\left[ \\frac{\\alpha_k + n_{-i,k}}{\\sum_k^K \\alpha_k + n_{-i,k}} \\right] \\left[ \\prod_d^D \\frac{B(a_{k,d} + n_{k,d}^{(1)} + x_{i,d}, \\quad b_{k,d} + n_{k,d}^{(0)} + 1 - x_{i,d})}{B(a_{k,d} + n_{k,d}^{(1)}, b_{k,d} + n_{k,d}^{(0)})} \\right]\n",
    "\\end{align}$$"
   ]
  },
  {
   "cell_type": "markdown",
   "id": "6a57f9b5",
   "metadata": {},
   "source": [
    "---\n",
    "\n",
    "## Gibbs Routine\n",
    "For Gibbs we want $P(\\mathbf{z}|\\mathbf{X})$ and $P(\\mathbf{X}|\\mathbf{z})$\n",
    "1) Sample $\\mathbf{z} \\sim P(\\mathbf{z}|\\mathbf{X})$  \n",
    "$\\qquad$ For $i=1,...,N$:   \n",
    "$\n",
    "    \\qquad\\qquad\\qquad  z_i \\sim P(z_i|\\mathbf{z}_{-i}, \\mathbf{X})  = \\underbrace{P(\\mathbf{x}_i | \\mathbf{X}_{-i}, z_i=k, \\mathbf{z}_{-i})P(z_i=k|\\mathbf{z}_{-i})}_{\\text{Collapsed conditional from before}}\n",
    "$\n",
    "\n",
    "2) Sample $\\mathbf{X} \\sim P(\\mathbf{X} | \\mathbf{z}) $  \n",
    "$\\qquad$ For $i=1,...,N$:   \n",
    "$\\qquad\\qquad$ For each missing $d \\in H_i$:  \n",
    "$\n",
    "    \\qquad\\qquad\\qquad  x_{i,d} \\sim \\mathbf{Bernoulli}(p_{i,d}), \\quad \\text{where } p_{i,d} = \\underbrace{\\frac{B(a_{z_i,d} + n_{z_i,d}^{(1)} + x_{i,d}, \\quad b_{z_i,d} + n_{z_i,d}^{(0)} - x_{i,d})}{B(a_{z_i,d} + n_{z_i,d}^{(1)}, b_{z_i,d} + n_{z_i,d}^{(0)})}}_{\\text{{Posterior Predictive of Beta-Bernoulli}}}\n",
    "$"
   ]
  },
  {
   "cell_type": "markdown",
   "id": "8ce83368",
   "metadata": {},
   "source": [
    "\n",
    "### Routine\n",
    "1) Intialize \n",
    "\n",
    "    $\\qquad\\mathbf{z} = [z_1,...,z_n]$  \n",
    "    $\\qquad\\mathbf{X} = [\\mathbf{x}_0,...,\\mathbf{x}_N]$\n",
    "\n",
    "\n",
    "\n",
    "2) For $t=1,...,T$:\n",
    "    * Sample $\\mathbf{z}^{(t)} \\sim P(\\mathbf{z}|\\mathbf{X}^{(t-1)})$    \n",
    "    $\\qquad$ For $i=0,..,N$  :  \n",
    "    $\n",
    "        \\qquad\\qquad \\text{Sample } z_i^{(t)} \\sim \\underbrace{P(z_i^{(t)} | \\mathbf{X}^{(t-1)}, z_1^{(t)},...,z_{i-1}^{(t)}, z_{i+1}^{(t-1)},...,z_{n}^{(t-1)})}_{\\text{The collapsed conditional}}\n",
    "    $  \n",
    "\n",
    "\n",
    "    * Sample $\\mathbf{X}_H^{(t)} \\sim P(\\mathbf{X}_H^{(t)} | \\mathbf{z}^{(t)}, \\mathbf{X}_O) $  \n",
    "    $\\qquad$ For $i=0,..,N$  and each missing feature $d \\in H_i$:  \n",
    "    $\\qquad\\qquad\\qquad\\qquad \\mathbf{x}_{i,d}^{(t)} \\sim \\mathbf{Bernoulli}(p_{i,d}),$\n",
    "    $\\quad \\text{where } p_{i,d} = \\underbrace{\\frac{B(a_{z_i,d} + n_{z_i,d}^{(1)} + x_{i,d}, \\quad b_{z_i,d} + n_{z_i,d}^{(0)} - x_{i,d})}{B(a_{z_i,d} + n_{z_i,d}^{(1)}, b_{z_i,d} + n_{z_i,d}^{(0)})}}_{\\text{{Posterior Predictive of Beta-Bernoulli}}}$\n",
    "\n"
   ]
  },
  {
   "cell_type": "code",
   "execution_count": 17,
   "id": "1eb101ee",
   "metadata": {},
   "outputs": [],
   "source": [
    "def sampleZs(X, zs, nk, nkd1,a_mat, b_mat, α_0, K=10):\n",
    "    n,D = X.shape\n",
    "\n",
    "    for i in range(0,n):\n",
    "        x_i = X[i]\n",
    "        \n",
    "        nk[zs[i]] -= 1\n",
    "        nkd1[zs[i]] -= x_i\n",
    "        nkd0 = nk[:, None] - nkd1\n",
    "\n",
    "        log_prior = np.log(α_0 + nk)\n",
    "\n",
    "        log_like = np.sum(\n",
    "            betaln(a_mat + nkd1 + x_i, b_mat + nkd0 + 1 - x_i) \n",
    "            - betaln(a_mat + nkd1, b_mat + nkd0), axis=1\n",
    "        )\n",
    "\n",
    "        cat_dist = np.array(log_prior + log_like)\n",
    "        cat_dist -= cat_dist.max() # invariance trick\n",
    "\n",
    "        p = np.exp(cat_dist)\n",
    "        p /= p.sum()\n",
    "\n",
    "        cdf = np.cumsum(p)\n",
    "        u   = rng.random(size=(1))\n",
    "        zs[i] = (cdf > u).argmax()  # return first index where cdf is greater than random u \n",
    "\n",
    "        nk[zs[i]] += 1\n",
    "        nkd1[zs[i]] += x_i\n",
    "\n",
    "    return zs"
   ]
  },
  {
   "cell_type": "code",
   "execution_count": 18,
   "id": "947074eb",
   "metadata": {},
   "outputs": [],
   "source": [
    "def sampleXs(X, zs, nkd1, nk, a_mat, b_mat, missing_mask, K=10, eps=1e-20):\n",
    "    n,D = X.shape\n",
    "\n",
    "    X_sample = X.copy()\n",
    "    \n",
    "    for i in range(0,n):\n",
    "        x = X[i]\n",
    "        k = zs[i]\n",
    "\n",
    "        nkd0 = nk[k] - nkd1[k]\n",
    "        numerator = betaln(a_mat[k] + nkd1[k] + np.nan_to_num(x, nan=0), b_mat[k] + nkd0 + 1 - np.nan_to_num(x, nan=0))\n",
    "        denominator = betaln(a_mat[k] + nkd1[k], b_mat[k] + nkd0)\n",
    "        p = np.exp(numerator - denominator)\n",
    "\n",
    "        X_sample[i, missing_mask[i]] = np.random.binomial(1, p[missing_mask[i]])\n",
    "\n",
    "\n",
    "    return X_sample"
   ]
  },
  {
   "cell_type": "code",
   "execution_count": 19,
   "id": "00864dc0",
   "metadata": {},
   "outputs": [],
   "source": [
    "def gibbs_collapsed(X, num_iter, num_burn, K=10, rng=np.random.default_rng(random_seed), eps=1e-20) :\n",
    "    n, d = X.shape\n",
    "\n",
    "    missing_mask = np.isnan(X)\n",
    "    obs_mask = ~missing_mask\n",
    "\n",
    "    zs_samples = []\n",
    "    xs_samples = []\n",
    "\n",
    "    # Intialize\n",
    "    α_0 = np.full(K, 1 / K, dtype=np.float64)  # Dirichlet\n",
    "    a_mat  = np.full((K, d), 1) # Beta\n",
    "    b_mat  = np.full((K, d), 1) # Beta\n",
    "\n",
    "    zs = rng.integers(0,K, size=n)\n",
    "\n",
    "    nk = np.zeros((K))\n",
    "    nkd1 = np.zeros((K,d))\n",
    "\n",
    "    # Initialize nk, nkd1\n",
    "    for k in range(0,K):\n",
    "        indices = (zs == k)\n",
    "        obs_k = obs_mask[indices]\n",
    "        nk[k] = indices.sum()\n",
    "        nkd1[k] = np.nansum(X[indices] * obs_k, axis=0)\n",
    "\n",
    "    xs = sampleXs(X, zs, nkd1, nk, a_mat, b_mat, missing_mask)\n",
    "    \n",
    "    for t in range(1,num_iter+num_burn):\n",
    "        # update counts for newly sampled X\n",
    "        for k in range(0,K):\n",
    "            indices = (zs == k)\n",
    "            nk[k] = indices.sum()\n",
    "            nkd1[k] = xs[indices].sum(axis=0)\n",
    "            \n",
    "        zs = sampleZs(xs,zs,nk,nkd1,a_mat,b_mat,α_0)\n",
    "        xs = sampleXs(X, zs, nkd1, nk, a_mat, b_mat, missing_mask)\n",
    "\n",
    "        if t > num_burn:\n",
    "            zs_samples.append(zs.copy())\n",
    "            xs_samples.append(xs.copy())\n",
    "    \n",
    "    return np.array(zs_samples), np.array(xs_samples)"
   ]
  },
  {
   "cell_type": "code",
   "execution_count": 20,
   "id": "ce7d6fb6",
   "metadata": {},
   "outputs": [],
   "source": [
    "zs,xs= gibbs_collapsed(X_mnist_cover1, 20, 0, 10)"
   ]
  },
  {
   "cell_type": "code",
   "execution_count": 21,
   "id": "cd762c34",
   "metadata": {},
   "outputs": [
    {
     "data": {
      "image/png": "[encoded data removed]",
      "text/plain": [
       "<Figure size 640x480 with 1 Axes>"
      ]
     },
     "metadata": {},
     "output_type": "display_data"
    }
   ],
   "source": [
    "scores = [metrics.adjusted_rand_score(Y_mnist_train, zs[i]) for i in range(0,len(zs))]\n",
    "plt.plot(scores)\n",
    "plt.show()"
   ]
  },
  {
   "cell_type": "code",
   "execution_count": null,
   "id": "2854d5e4",
   "metadata": {},
   "outputs": [],
   "source": []
  }
 ],
 "metadata": {
  "kernelspec": {
   "display_name": "myenv",
   "language": "python",
   "name": "python3"
  },
  "language_info": {
   "codemirror_mode": {
    "name": "ipython",
    "version": 3
   },
   "file_extension": ".py",
   "mimetype": "text/x-python",
   "name": "python",
   "nbconvert_exporter": "python",
   "pygments_lexer": "ipython3",
   "version": "3.9.21"
  }
 },
 "nbformat": 4,
 "nbformat_minor": 5
}
