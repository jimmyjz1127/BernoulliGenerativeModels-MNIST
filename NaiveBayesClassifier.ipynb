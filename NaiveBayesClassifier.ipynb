{
 "cells": [
  {
   "cell_type": "markdown",
   "id": "68b291cf",
   "metadata": {},
   "source": [
    "This notebook implements a supervised generative classifier for binary MNIST data using class-conditional Bernoulli distributions"
   ]
  },
  {
   "cell_type": "code",
   "execution_count": 2,
   "id": "2eb85e61",
   "metadata": {},
   "outputs": [],
   "source": [
    "%matplotlib inline\n",
    "# %matplotlib notebook\n",
    "%config Completer.use_jedi = False\n",
    "import matplotlib.pyplot as plt\n",
    "import numpy as np\n",
    "import pandas as pd\n",
    "from scipy.special import logsumexp\n",
    "from scipy.special import softmax\n",
    "import numpy.linalg as linalg\n",
    "from sklearn.cluster import KMeans\n",
    "from sklearn import metrics\n",
    "import scipy.sparse as sparse\n",
    "\n",
    "from sklearn import metrics\n",
    "from sklearn.metrics import accuracy_score, precision_recall_fscore_support"
   ]
  },
  {
   "cell_type": "code",
   "execution_count": 3,
   "id": "b7bb42cb",
   "metadata": {},
   "outputs": [],
   "source": [
    "random_seed = 123\n",
    "rng = np.random.default_rng(random_seed)"
   ]
  },
  {
   "cell_type": "markdown",
   "id": "f3001e97",
   "metadata": {},
   "source": [
    "# 1 Import Dataset"
   ]
  },
  {
   "cell_type": "code",
   "execution_count": 4,
   "id": "0058ba33",
   "metadata": {},
   "outputs": [],
   "source": [
    "from sklearn.datasets import fetch_openml\n",
    "mnist = fetch_openml('mnist_784', parser ='auto')"
   ]
  },
  {
   "cell_type": "markdown",
   "id": "e65d8a0d",
   "metadata": {},
   "source": [
    "Binarize Data"
   ]
  },
  {
   "cell_type": "code",
   "execution_count": 5,
   "id": "66818e66",
   "metadata": {},
   "outputs": [],
   "source": [
    "X_mnist = np.array(mnist.data) > 0.5 # binary-rise the data\n",
    "Y_mnist = np.array(mnist.target, dtype ='int')\n",
    "X_mnist_train = X_mnist[:4000, :] # use the first 4000 images as training data\n",
    "Y_mnist_train = Y_mnist[:4000]\n",
    "X_mnist_test = X_mnist[4000:5000, :] # the next 1000 as testing\n",
    "Y_mnist_test = Y_mnist[4000:5000]"
   ]
  },
  {
   "cell_type": "markdown",
   "id": "7c53ffde",
   "metadata": {},
   "source": [
    "# 2  Algorithm"
   ]
  },
  {
   "cell_type": "markdown",
   "id": "8cb67751",
   "metadata": {},
   "source": [
    "Assume shared covariance $\\Sigma$"
   ]
  },
  {
   "cell_type": "markdown",
   "id": "e3d2075f",
   "metadata": {},
   "source": [
    "$$\\begin{align}\n",
    "    \\hat{\\pi}_c &= \\frac{n_c}{n}\\\\\n",
    "    \\hat{\\mu}_c  &= \\frac{1}{n_c}\\sum_{i=1}^{n} \\mathbb{1}(y^{(i)} = c) \\cdot \\mathbf{x}^{(i)}\\\\\n",
    "    \\hat{\\Sigma} &= \\frac{1}{n}\\sum_{c=i}^{C}\\sum_{i=1}^{n} \\mathbb{1}(y^{(i)} = c)(\\mathbf{x}^{(i)} - \\mu_c)(\\mathbf{x}^{(i)} - \\mu_c)^\\top\n",
    "\\end{align}$$"
   ]
  },
  {
   "cell_type": "code",
   "execution_count": 6,
   "id": "fecb1577",
   "metadata": {},
   "outputs": [],
   "source": [
    "def fit(X, y):\n",
    "    ''' \n",
    "        X : input matrix (n x d)\n",
    "        y : labels \n",
    "    '''\n",
    "\n",
    "    n,d = X.shape\n",
    "    sse = np.zeros((d,d))\n",
    "    K = len(set(y))\n",
    "    mus = np.zeros((K,d))\n",
    "    pis = np.zeros(K)\n",
    "    \n",
    "    for c in set(y):\n",
    "        pis[c] = sum(1 for x in y if x == c)\n",
    "\n",
    "        # mus[c] = np.mean([x for x,i in enumerate(X) if y[i] == c])\n",
    "        Xc = X[y==c]\n",
    "        mus[c] = np.mean(Xc, axis=0)\n",
    "\n",
    "        error = Xc - mus[c]\n",
    "\n",
    "        sse += np.dot(error.T, error)\n",
    "\n",
    "    return pis/n, mus, sse/n\n"
   ]
  },
  {
   "cell_type": "markdown",
   "id": "c25a74e3",
   "metadata": {},
   "source": [
    "Log Likelihood:\n",
    "$$\\begin{align}\n",
    "    \\hat{y} &=  \\argmax_k \\left \\{ \\ln\\pi_k \\cdot p(\\mathbf{x}^{(i)}| \\boldsymbol{\\mu}_k)\\right \\}\\\\\n",
    "\n",
    "    &= \\argmax_k \\left \\{ \\ln\\pi_k + \\sum_{d=1}^D x_d^{(i)} \\ln\\mu_{kd} + (1-x_d^{(i)}) \\ln(1-\\mu_{kd}) + C \\right \\}\n",
    "\\end{align}$$"
   ]
  },
  {
   "cell_type": "code",
   "execution_count": 7,
   "id": "6b60d0f2",
   "metadata": {},
   "outputs": [],
   "source": [
    "def predict(X, πs, μs, sse, eps=1e-14):\n",
    "    n,d = X.shape\n",
    "    K = len(πs)\n",
    "\n",
    "    # Stores likelihoods of x for each cluster \n",
    "    R = np.zeros((n,K))\n",
    "\n",
    "    for i in range(0,n):\n",
    "        comp1 = np.dot(X[i], np.log(μs + eps).T)\n",
    "        comp2 = np.dot(1 - X[i], np.log(1 - μs + eps).T)\n",
    "        sum = np.log(πs + eps) + comp1 + comp2\n",
    "\n",
    "        R[i] = sum\n",
    "\n",
    "    # Compute the norm for each observation \n",
    "    log_R_norm = logsumexp(R, axis=1, keepdims=True)\n",
    "\n",
    "    # Normalize R to sum to 1 across the clusters for each observation \n",
    "    R = np.exp(R - log_R_norm)\n",
    "\n",
    "    zs = np.argmax(R, axis=1)\n",
    "\n",
    "    return zs\n",
    "    "
   ]
  },
  {
   "cell_type": "markdown",
   "id": "7a3cb305",
   "metadata": {},
   "source": [
    "## 3 Predict and Evaluate"
   ]
  },
  {
   "cell_type": "markdown",
   "id": "74ef2f8d",
   "metadata": {},
   "source": [
    "Get fitted (learned) $\\pi$ , $\\mu$, and $\\Sigma$ (not applicable in this case for Bernoulli)"
   ]
  },
  {
   "cell_type": "code",
   "execution_count": 9,
   "id": "23ca7bcb",
   "metadata": {},
   "outputs": [],
   "source": [
    "pis, mus, sse = fit(X_mnist_train, Y_mnist_train)"
   ]
  },
  {
   "cell_type": "code",
   "execution_count": 10,
   "id": "75e99ea7",
   "metadata": {},
   "outputs": [
    {
     "name": "stdout",
     "output_type": "stream",
     "text": [
      "(4000, 784)\n",
      "(4000,)\n"
     ]
    }
   ],
   "source": [
    "print(X_mnist_train.shape)\n",
    "print(Y_mnist_train.shape)"
   ]
  },
  {
   "cell_type": "markdown",
   "id": "8f315461",
   "metadata": {},
   "source": [
    "Plot the learned cluster centers"
   ]
  },
  {
   "cell_type": "code",
   "execution_count": 58,
   "id": "297931ca",
   "metadata": {},
   "outputs": [
    {
     "data": {
      "image/png": "[encoded data removed]",
      "text/plain": [
       "<Figure size 700x350 with 10 Axes>"
      ]
     },
     "metadata": {},
     "output_type": "display_data"
    }
   ],
   "source": [
    "figure = plt.figure(figsize=(7, 3.5))\n",
    "rows, cols= 2, 5\n",
    "for k in range(10):\n",
    "    img = mus[k, :].reshape(28, 28)\n",
    "    figure.add_subplot(rows, cols, k+1)\n",
    "    # plt.title(k)\n",
    "    plt.axis(\"off\")\n",
    "    plt.imshow(img, cmap=\"gray\")\n",
    "plt.show()"
   ]
  },
  {
   "cell_type": "markdown",
   "id": "491d935f",
   "metadata": {},
   "source": [
    "Get cluster assignments based on likelihood"
   ]
  },
  {
   "cell_type": "code",
   "execution_count": 60,
   "id": "3bc6cfbd",
   "metadata": {},
   "outputs": [],
   "source": [
    "zs = predict(X_mnist_test, pis, mus, sse)"
   ]
  },
  {
   "cell_type": "code",
   "execution_count": 61,
   "id": "9fa385ef",
   "metadata": {},
   "outputs": [],
   "source": [
    "accuracy = accuracy_score(zs, Y_mnist_test)"
   ]
  },
  {
   "cell_type": "code",
   "execution_count": 62,
   "id": "2d6f5ac0",
   "metadata": {},
   "outputs": [
    {
     "name": "stdout",
     "output_type": "stream",
     "text": [
      "Accuracy : 0.819\n"
     ]
    }
   ],
   "source": [
    "print(\"Accuracy :\", accuracy)"
   ]
  }
 ],
 "metadata": {
  "kernelspec": {
   "display_name": "myenv",
   "language": "python",
   "name": "python3"
  },
  "language_info": {
   "codemirror_mode": {
    "name": "ipython",
    "version": 3
   },
   "file_extension": ".py",
   "mimetype": "text/x-python",
   "name": "python",
   "nbconvert_exporter": "python",
   "pygments_lexer": "ipython3",
   "version": "3.9.21"
  }
 },
 "nbformat": 4,
 "nbformat_minor": 5
}
