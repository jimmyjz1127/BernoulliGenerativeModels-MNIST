{
 "cells": [
  {
   "cell_type": "code",
   "execution_count": 1,
   "metadata": {},
   "outputs": [],
   "source": [
    "%matplotlib inline\n",
    "# %matplotlib notebook\n",
    "%config Completer.use_jedi = False\n",
    "import matplotlib.pyplot as plt\n",
    "import numpy as np\n",
    "import pandas as pd\n",
    "from scipy.special import logsumexp\n",
    "from scipy.special import softmax\n",
    "import numpy.linalg as linalg\n",
    "from sklearn.cluster import KMeans\n",
    "from sklearn import metrics\n",
    "import scipy.sparse as sparse\n"
   ]
  },
  {
   "cell_type": "code",
   "execution_count": 2,
   "metadata": {},
   "outputs": [],
   "source": [
    "random_seed = 123\n",
    "rng = np.random.default_rng(random_seed)"
   ]
  },
  {
   "cell_type": "markdown",
   "metadata": {},
   "source": [
    "# 1 Import Dataset"
   ]
  },
  {
   "cell_type": "code",
   "execution_count": 3,
   "metadata": {},
   "outputs": [],
   "source": [
    "from sklearn.datasets import fetch_openml\n",
    "mnist = fetch_openml('mnist_784', parser ='auto')"
   ]
  },
  {
   "cell_type": "markdown",
   "metadata": {},
   "source": [
    "Binarize the Data"
   ]
  },
  {
   "cell_type": "code",
   "execution_count": 4,
   "metadata": {},
   "outputs": [],
   "source": [
    "X_mnist = np.array(mnist.data) > 0.5 # binary-rise the data\n",
    "Y_mnist = np.array(mnist.target, dtype ='int')\n",
    "X_mnist_train = X_mnist[:4000, :] # use the first 4000 images as training data\n",
    "Y_mnist_train = Y_mnist[:4000]\n",
    "X_mnist_test = X_mnist[4000:5000, :] # the next 1000 as testing\n",
    "Y_mnist_test = Y_mnist[4000:5000]"
   ]
  },
  {
   "cell_type": "markdown",
   "metadata": {},
   "source": [
    "# 2 Algorithm"
   ]
  },
  {
   "cell_type": "markdown",
   "metadata": {},
   "source": [
    "## 2.1 Expectation Step "
   ]
  },
  {
   "cell_type": "markdown",
   "metadata": {},
   "source": [
    "Compute responsibility (probability of component generating datapoint) :\n",
    "$$\\begin{align}\n",
    "\\ln r_{ik} &= \\ln\\pi_k + \\ln p(\\mathbf{x}^{(i)}| z^{(i)}=k, \\{\\boldsymbol{\\mu}_k\\}) + C\\\\\n",
    "&=\\ln\\pi_k + \\sum_{d=1}^D x_d^{(i)} \\ln\\mu_{kd} + (1-x_d^{(i)}) \\ln(1-\\mu_{kd}) + C\n",
    "\\end{align}$$\n",
    "\n",
    "\n",
    "Log Likelihood:\n",
    "$$\\ell(\\boldsymbol{\\pi}, \\boldsymbol{\\mu}s)=\\frac{1}{n}\\ln p(\\{\\mathbf{x}^{(i)}\\}_{i=1}^n|\\boldsymbol{\\pi}, \\{\\boldsymbol{\\mu}_k\\}) = \\frac{1}{n} \\sum_{i=1}^n\\ln\\left \\{ \\sum_{k=1}^K \\pi_k \\cdot p(\\mathbf{x}^{(i)}| \\boldsymbol{\\mu}_k)\\right \\}$$"
   ]
  },
  {
   "cell_type": "code",
   "execution_count": 63,
   "metadata": {},
   "outputs": [],
   "source": [
    "def e_step(X, πs, μs, eps=1e-14):\n",
    "    '''\n",
    "        πs : k x 1 (priors)\n",
    "        μs : k x d \n",
    "        X  : 500 x d\n",
    "    '''\n",
    "    n, D = X.shape\n",
    "    K = len(πs)\n",
    "    R = np.zeros((n, K))\n",
    "    loglik = 0.0\n",
    "\n",
    "    for i in range(0,n):\n",
    "        comp1 = np.dot(X[i], np.log(μs + eps).T)\n",
    "        comp2 = np.dot(1 - X[i], np.log(1 - μs + eps).T)\n",
    "        sum = np.log(πs + eps) + comp1 + comp2\n",
    "\n",
    "        R[i] = sum  \n",
    "\n",
    "    # Compute the norm for each observation \n",
    "    log_R_norm = logsumexp(R, axis=1, keepdims=True)\n",
    "\n",
    "    # Normalize R to sum to 1 across the clusters for each observation \n",
    "    R = np.exp(R - log_R_norm)\n",
    "    \n",
    "    # Compute average marginal log likelihood \n",
    "    loglik = np.sum(log_R_norm) / n        \n",
    "\n",
    "    return R, loglik"
   ]
  },
  {
   "cell_type": "markdown",
   "metadata": {},
   "source": [
    "# 2.2 Maximization Step"
   ]
  },
  {
   "cell_type": "markdown",
   "metadata": {},
   "source": [
    "For $k=1, \\ldots, K$:\n",
    "\n",
    "$$\\pi_k = \\frac{n_k}{n};\\;\\; \\boldsymbol{\\mu}_k = \\frac{\\sum_{i=1}^n r_{ik} \\cdot \\mathbf{x}^{(i)}}{n_k},$$\n",
    "\n",
    "\n",
    "* where $n_k = \\sum_{i=1}^n r_{ik}$"
   ]
  },
  {
   "cell_type": "code",
   "execution_count": 62,
   "metadata": {},
   "outputs": [],
   "source": [
    "def m_step(X, R):\n",
    "    ## implement here \n",
    "    n, d = X.shape # rows are each datapoint, cols are responsibility to each of K clusters\n",
    "\n",
    "    nk = np.sum(R, axis=0) \n",
    "    πs = nk/n\n",
    "    μs = np.dot(R.T, X)/nk[:, np.newaxis]\n",
    "\n",
    "    return πs, μs"
   ]
  },
  {
   "cell_type": "markdown",
   "metadata": {},
   "source": [
    "## 2.3 EM Algorithm Loop"
   ]
  },
  {
   "cell_type": "code",
   "execution_count": null,
   "metadata": {},
   "outputs": [],
   "source": [
    "def em_mixberns(X, K, tol = 1e-4, maxIters = 100):\n",
    "\t## initilisation\n",
    "\tn, d = X.shape\n",
    "\t\n",
    "\tR = rng.random((n, K))\n",
    "\n",
    "\t# normalize initialization responsibility matrix \n",
    "\tR /= np.sum(R, axis=1, keepdims=True)\n",
    "\n",
    "\t# perform maximization step\n",
    "\tπs, μs = m_step(X,R)\n",
    "\n",
    "\tlogLiks = [0.0]\n",
    "\n",
    "\tfor i in range(maxIters):\n",
    "\t\t# E step \n",
    "\t\tR, loglik = e_step(X, πs, μs)\n",
    "\t\tlogLiks.append(loglik)\n",
    "\n",
    "\t\t# M step \n",
    "\t\tπs, μs = m_step(X, R)\n",
    "\t\tzs = np.argmax(R, axis=1)\n",
    "\n",
    "\t\t# Check for convergence \n",
    "\t\tif np.abs(logLiks[-1] - logLiks[-2]) < tol:\n",
    "\t\t\tbreak \n",
    "\t\n",
    "\treturn logLiks, πs, μs, zs, R\n",
    "\n"
   ]
  },
  {
   "cell_type": "markdown",
   "metadata": {},
   "source": [
    "# 3 Discriminative Predictions & Evaluation"
   ]
  },
  {
   "cell_type": "markdown",
   "metadata": {},
   "source": [
    "Classify the binary MNIST set"
   ]
  },
  {
   "cell_type": "code",
   "execution_count": 69,
   "metadata": {},
   "outputs": [],
   "source": [
    "# assume 10 components for digits 0-9\n",
    "logLiks_em, πs_em, μs_em, zs_em, R_em = em_mixberns(X_mnist_train, 10)"
   ]
  },
  {
   "cell_type": "code",
   "execution_count": 70,
   "metadata": {},
   "outputs": [
    {
     "name": "stdout",
     "output_type": "stream",
     "text": [
      "Adjusted rand index:  0.3779413846011628\n"
     ]
    },
    {
     "data": {
      "image/png": "[encoded data removed]",
      "text/plain": [
       "<Figure size 640x480 with 1 Axes>"
      ]
     },
     "metadata": {},
     "output_type": "display_data"
    }
   ],
   "source": [
    "ridx = metrics.adjusted_rand_score(Y_mnist_train, zs_em)\n",
    "\n",
    "print(\"Adjusted rand index: \", ridx)\n",
    "\n",
    "plt.plot(logLiks_em[1:])\n",
    "plt.title('MNIST EM Log Likelihood Trajectory')\n",
    "plt.ylabel('Log Likelihood')\n",
    "plt.xlabel('Iterations')\n",
    "plt.show()"
   ]
  },
  {
   "cell_type": "code",
   "execution_count": 71,
   "metadata": {},
   "outputs": [
    {
     "data": {
      "image/png": "[encoded data removed]",
      "text/plain": [
       "<Figure size 700x350 with 10 Axes>"
      ]
     },
     "metadata": {},
     "output_type": "display_data"
    }
   ],
   "source": [
    "figure = plt.figure(figsize=(7, 3.5))\n",
    "rows, cols= 2, 5\n",
    "for k in range(10):\n",
    "    img = μs_em[k, :].reshape(28, 28)\n",
    "    figure.add_subplot(rows, cols, k+1)\n",
    "    # plt.title(k)\n",
    "    plt.axis(\"off\")\n",
    "    plt.imshow(img, cmap=\"gray\")\n",
    "plt.show()"
   ]
  },
  {
   "cell_type": "code",
   "execution_count": null,
   "metadata": {},
   "outputs": [],
   "source": []
  }
 ],
 "metadata": {
  "kernelspec": {
   "display_name": "myenv",
   "language": "python",
   "name": "python3"
  },
  "language_info": {
   "codemirror_mode": {
    "name": "ipython",
    "version": 3
   },
   "file_extension": ".py",
   "mimetype": "text/x-python",
   "name": "python",
   "nbconvert_exporter": "python",
   "pygments_lexer": "ipython3",
   "version": "3.9.21"
  }
 },
 "nbformat": 4,
 "nbformat_minor": 2
}
