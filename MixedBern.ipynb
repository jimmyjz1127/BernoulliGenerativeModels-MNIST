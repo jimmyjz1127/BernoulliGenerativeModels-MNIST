{
 "cells": [
  {
   "cell_type": "code",
   "execution_count": 6,
   "metadata": {},
   "outputs": [],
   "source": [
    "%matplotlib inline\n",
    "# %matplotlib notebook\n",
    "%config Completer.use_jedi = False\n",
    "import matplotlib.pyplot as plt\n",
    "import numpy as np\n",
    "import pandas as pd\n",
    "from scipy.special import logsumexp\n",
    "from scipy.special import softmax\n",
    "import numpy.linalg as linalg\n",
    "from sklearn.cluster import KMeans\n",
    "from sklearn import metrics\n",
    "import scipy.sparse as sparse\n",
    "\n",
    "from collections import Counter\n",
    "\n",
    "\n",
    "from sklearn.metrics import accuracy_score, precision_recall_fscore_support\n",
    "from sklearn.metrics import confusion_matrix\n",
    "\n",
    "import matplotlib.pyplot as plt\n",
    "import seaborn as sns"
   ]
  },
  {
   "cell_type": "code",
   "execution_count": 7,
   "metadata": {},
   "outputs": [],
   "source": [
    "random_seed = 123\n",
    "rng = np.random.default_rng(random_seed)"
   ]
  },
  {
   "cell_type": "markdown",
   "metadata": {},
   "source": [
    "# 1 Import Dataset"
   ]
  },
  {
   "cell_type": "code",
   "execution_count": 8,
   "metadata": {},
   "outputs": [],
   "source": [
    "from sklearn.datasets import fetch_openml\n",
    "mnist = fetch_openml('mnist_784', parser ='auto')"
   ]
  },
  {
   "cell_type": "markdown",
   "metadata": {},
   "source": [
    "Binarize the Data"
   ]
  },
  {
   "cell_type": "code",
   "execution_count": 9,
   "metadata": {},
   "outputs": [],
   "source": [
    "X_mnist = np.array(mnist.data) > 0.5 # binary-rise the data\n",
    "Y_mnist = np.array(mnist.target, dtype ='int')\n",
    "X_mnist_train = X_mnist[:4000, :] # use the first 4000 images as training data\n",
    "Y_mnist_train = Y_mnist[:4000]\n",
    "X_mnist_test = X_mnist[4000:5000, :] # the next 1000 as testing\n",
    "Y_mnist_test = Y_mnist[4000:5000]"
   ]
  },
  {
   "cell_type": "markdown",
   "metadata": {},
   "source": [
    "# 2 K-Means (for preprocessing)"
   ]
  },
  {
   "cell_type": "markdown",
   "metadata": {},
   "source": [
    "### Spherical K-means\n",
    "\n",
    "\n",
    "\n",
    "1) **Assignment step**: For $i=1,\\ldots, n$\n",
    "\n",
    "$$z^{(i)} \\leftarrow \\arg\\min_{k} \\left (1- \\frac{\\boldsymbol{\\mu}_k^\\top \\mathbf{x}^{(i)} }{\\|\\boldsymbol{\\mu}_k\\| \\cdot \\|\\mathbf{x}^{(i)}\\|}\\right )$$ \n",
    "\n",
    "$\\qquad$ where $\\boldsymbol{\\mu}_k^\\top \\mathbf{x}^{(i)} = \\sum_{j=1}^d {\\mu}_{kj} \\cdot {x}^{(i)}_{j}$ denotes the inner product and $\\|\\mathbf{x}\\|$ is $L_2$ norm of a vector $\\mathbf{x}$: $\\|\\mathbf{x}\\| = \\sqrt{\\mathbf{x}^\\top \\mathbf{x}}$.\n",
    "\n",
    "2) **Update step**: for $k=1,\\ldots, K$\n",
    "\n",
    "$$\\boldsymbol{\\mu}_k \\leftarrow \\frac{\\sum_{i=1}^n \\mathbb{1}(z^{(i)} =k) \\cdot  \\mathbf{x}^{(i)}}{\\|\\sum_{i=1}^n \\mathbb{1}(z^{(i)} =k) \\cdot \\mathbf{x}^{(i)}\\|}.$$ \n",
    "\n",
    "* After the normalisation step, the centroids $\\boldsymbol{\\mu}_k$ are norm-one vectors: i.e. $\\|\\boldsymbol{\\mu}_k\\| = 1$ for $k=1,\\ldots, K$.\n",
    "\n",
    "**Repeat** the above two steps **until** the total cosine distance loss converges, where the loss is defined as\n",
    "\n",
    "$$\\texttt{loss} = \\sum_{i=1}^n \\left (1- \\frac{\\boldsymbol{\\mu}_{z^{(i)}}^\\top \\mathbf{x}^{(i)} }{\\|\\boldsymbol{\\mu}_{z^{(i)}}\\| \\cdot \\|\\mathbf{x}^{(i)}\\|}\\right ).$$\n"
   ]
  },
  {
   "cell_type": "code",
   "execution_count": 164,
   "metadata": {},
   "outputs": [],
   "source": [
    "def cosine_similarity(A, B):\n",
    "    '''\n",
    "        Cosine similarity distance function\n",
    "        @param (A) ; n-dimensional vector (numpy array)\n",
    "        @param (B) : n-dimensional vector (numpy array)\n",
    "    '''\n",
    "\n",
    "    dot_product = np.dot(A, B)\n",
    "    norm_A = np.linalg.norm(A)\n",
    "    norm_B = np.linalg.norm(B)\n",
    "    return dot_product / (norm_A * norm_B)\n",
    "\n",
    "\n",
    "def assign_step(data, centroids, K, eps=1e-14):\n",
    "    ''' \n",
    "        Assign datapoints to clusters using cosine similarity.\n",
    "        @param data: data matrix (n x d)\n",
    "        @param centroids: cluster centroids (K x d)\n",
    "        @param K: number of clusters\n",
    "        @return: total similarity (sum of maximum similarities) and one-hot encoded assignments (n x K)\n",
    "    '''\n",
    "    # Cosine similarity\n",
    "    dot_products = np.dot(data, centroids.T)\n",
    "    \n",
    "    # Compute the L2 norms for data and centroids\n",
    "    data_norms = np.linalg.norm(data, axis=1)  # (n,)\n",
    "    centroids_norms = np.linalg.norm(centroids, axis=1)  # (K,)\n",
    "    \n",
    "    # Compute the cosine similarity matrix w/ broadcasting\n",
    "    cosine_similarities = dot_products / ((data_norms[:, None] * (centroids_norms[None, :])) + eps)\n",
    "    \n",
    "    # find the centroid with maximum cosine similarity for each data point\n",
    "    best_cluster_indices = np.argmax(cosine_similarities, axis=1)\n",
    "    \n",
    "    # one-hot encode\n",
    "    assignments = np.eye(K)[best_cluster_indices]\n",
    "    \n",
    "    # Compute the total similarity (sum of max similarities)\n",
    "    total_similarity = np.sum(np.min(1 - cosine_similarities, axis=1))\n",
    "    \n",
    "    return total_similarity, assignments\n",
    "\n",
    "\n",
    "def update_step(data, zs, eps=1e-14):\n",
    "    ''' \n",
    "        K-mean update step (update cluster assignments of each datapoint)\n",
    "        @param (data) : the data matrix (n x d)\n",
    "        @param (zs)   : the datapoint assignments ()\n",
    "        @param (K)    : the number of clusters\n",
    "    '''\n",
    "    _, d = data.shape\n",
    "    _, k = zs.shape\n",
    "\n",
    "    sums = zs.T @ data\n",
    "\n",
    "    norm_sums = np.linalg.norm(sums, axis=1)\n",
    "\n",
    "    norm_sums = norm_sums.reshape(-1,1) \n",
    "\n",
    "    update = np.divide(sums,norm_sums + eps)\n",
    "\n",
    "    return update\n",
    "\n",
    "\n",
    "def kmeans(data, K=10, tol= 1e-8, maxIters= 1000):\n",
    "    ''' \n",
    "        K-Means assign-update learning algorithm \n",
    "        @param (data) : the data matrix (n x d)\n",
    "        @param (K) : the number of clusters to assume\n",
    "        @param (tol) : the convergence check loss amount\n",
    "        @param (maxIters) : maximum iterations to perform before stopping\n",
    "    '''\n",
    "    n, d = data.shape \n",
    "\n",
    "    init_us_ids = rng.integers(n, size = K)\n",
    "\n",
    "    us = data[init_us_ids, :]\n",
    "\n",
    "    losses = []\n",
    "\n",
    "    # loop until converge \n",
    "    for i in range(maxIters):\n",
    "        # assignment step\n",
    "        min_distances, zs = assign_step(data,us,K)\n",
    "        \n",
    "        # update step\n",
    "        us = update_step(data,zs)\n",
    "\n",
    "        # convergence check  \n",
    "        losses.append(1 - min_distances)    \n",
    "\n",
    "        if i > 1 and np.abs(losses[i] - losses[i-1]) < tol : break\n",
    "    return losses, zs, us"
   ]
  },
  {
   "cell_type": "markdown",
   "metadata": {},
   "source": [
    "# 3 EM Algorithm"
   ]
  },
  {
   "cell_type": "markdown",
   "metadata": {},
   "source": [
    "## 3.1 Expectation Step "
   ]
  },
  {
   "cell_type": "markdown",
   "metadata": {},
   "source": [
    "Compute responsibility (probability of component generating datapoint) :\n",
    "$$\\begin{align}\n",
    "\\ln r_{ik} &= \\ln\\pi_k + \\ln p(\\mathbf{x}^{(i)}| z^{(i)}=k, \\{\\boldsymbol{\\mu}_k\\}) + C\\\\\n",
    "&=\\ln\\pi_k + \\sum_{d=1}^D x_d^{(i)} \\ln\\mu_{kd} + (1-x_d^{(i)}) \\ln(1-\\mu_{kd}) + C\n",
    "\\end{align}$$\n",
    "\n",
    "\n",
    "Log Likelihood:\n",
    "$$\\ell(\\boldsymbol{\\pi}, \\boldsymbol{\\mu}s)=\\frac{1}{n}\\ln p(\\{\\mathbf{x}^{(i)}\\}_{i=1}^n|\\boldsymbol{\\pi}, \\{\\boldsymbol{\\mu}_k\\}) = \\frac{1}{n} \\sum_{i=1}^n\\ln\\left \\{ \\sum_{k=1}^K \\pi_k \\cdot p(\\mathbf{x}^{(i)}| \\boldsymbol{\\mu}_k)\\right \\}$$"
   ]
  },
  {
   "cell_type": "code",
   "execution_count": 10,
   "metadata": {},
   "outputs": [],
   "source": [
    "def e_step(X, πs, μs, eps=1e-14):\n",
    "    '''\n",
    "        πs : k x 1 (priors)\n",
    "        μs : k x d \n",
    "        X  : 500 x d\n",
    "    '''\n",
    "    n, D = X.shape\n",
    "    K = len(πs)\n",
    "    R = np.zeros((K, n))\n",
    "    loglik = 0.0\n",
    "\n",
    "    for k in range(K):\n",
    "        ll_k = (X @ np.log(μs[k] + eps).T) + ((1 - X) @ np.log(1 - μs[k] + eps).T)\n",
    "\n",
    "        R[k] = ll_k\n",
    "\n",
    "    R = np.log(πs + eps) + R.T\n",
    "\n",
    "    # Compute the norm for each observation \n",
    "    log_R_norm = logsumexp(R, axis=1, keepdims=True)\n",
    "\n",
    "    # Normalize R to sum to 1 across the clusters for each observation \n",
    "    R = np.exp(R - log_R_norm)\n",
    "    \n",
    "    # Compute average marginal log likelihood \n",
    "    loglik = np.sum(log_R_norm) / n        \n",
    "\n",
    "    return R, loglik"
   ]
  },
  {
   "cell_type": "markdown",
   "metadata": {},
   "source": [
    "# 3.2 Maximization Step"
   ]
  },
  {
   "cell_type": "markdown",
   "metadata": {},
   "source": [
    "For $k=1, \\ldots, K$:\n",
    "\n",
    "$$\\pi_k = \\frac{n_k}{n};\\;\\; \\boldsymbol{\\mu}_k = \\frac{\\sum_{i=1}^n r_{ik} \\cdot \\mathbf{x}^{(i)}}{n_k},$$\n",
    "\n",
    "\n",
    "* where $n_k = \\sum_{i=1}^n r_{ik}$"
   ]
  },
  {
   "cell_type": "code",
   "execution_count": 11,
   "metadata": {},
   "outputs": [],
   "source": [
    "def m_step(X, R):\n",
    "    ## implement here \n",
    "    n, d = X.shape # rows are each datapoint, cols are responsibility to each of K clusters\n",
    "\n",
    "    nk = np.sum(R, axis=0) \n",
    "    πs = nk/n\n",
    "    μs = (R.T @ X)/nk[:, np.newaxis]\n",
    "\n",
    "    return πs, μs"
   ]
  },
  {
   "cell_type": "markdown",
   "metadata": {},
   "source": [
    "## 3.3 EM Algorithm Loop"
   ]
  },
  {
   "cell_type": "code",
   "execution_count": 129,
   "metadata": {},
   "outputs": [],
   "source": [
    "def em_mixberns(X, K, μs_init=None, tol = 1e-4, maxIters = 100):\n",
    "\t## initilisation\n",
    "\tn, d = X.shape\n",
    "\t\n",
    "\tR = rng.random((n, K))\n",
    "\n",
    "\t# normalize initialization responsibility matrix \n",
    "\tR /= np.sum(R, axis=1, keepdims=True)\n",
    "\n",
    "\t# perform maximization step\n",
    "\tπs, μs = m_step(X,R)\n",
    "\n",
    "\tif μs_init is not None:\n",
    "\t\tμs = μs_init\n",
    "\n",
    "\tlogLiks = [0.0]\n",
    "\n",
    "\tfor i in range(maxIters):\n",
    "\t\t# E step \n",
    "\t\tR, loglik = e_step(X, πs, μs)\n",
    "\t\tlogLiks.append(loglik)\n",
    "\n",
    "\t\t# M step \n",
    "\t\tπs, μs = m_step(X, R)\n",
    "\t\tzs = np.argmax(R, axis=1)\n",
    "\n",
    "\t\t# Check for convergence \n",
    "\t\tif np.abs(logLiks[-1] - logLiks[-2]) < tol:\n",
    "\t\t\tbreak \n",
    "\t\n",
    "\treturn logLiks, πs, μs, zs, R\n",
    "\n"
   ]
  },
  {
   "cell_type": "code",
   "execution_count": 13,
   "metadata": {},
   "outputs": [],
   "source": [
    "def predict(X, πs, μs, eps=1e-14):\n",
    "    n, D = X.shape\n",
    "    K = len(πs)\n",
    "    R = np.zeros((K, n))\n",
    "    loglik = 0.0\n",
    "\n",
    "    for k in range(K):\n",
    "        ll_k = (X @ np.log(μs[k] + eps).T) + ((1 - X) @ np.log(1 - μs[k] + eps).T)\n",
    "        # full_ll_k = np.log(πs + eps) + ll_k\n",
    "\n",
    "        R[k] = ll_k\n",
    "\n",
    "    R = np.log(πs + eps) + R.T\n",
    "\n",
    "    # Compute the norm for each observation \n",
    "    log_R_norm = logsumexp(R, axis=1, keepdims=True)\n",
    "\n",
    "    # Normalize R to sum to 1 across the clusters for each observation \n",
    "    R = np.exp(R - log_R_norm)\n",
    "\n",
    "    y_preds = np.argmax(R, axis=1)\n",
    "\n",
    "    return y_preds"
   ]
  },
  {
   "cell_type": "markdown",
   "metadata": {},
   "source": [
    "# 3.4 Evaluation"
   ]
  },
  {
   "cell_type": "markdown",
   "metadata": {},
   "source": [
    "Classify the binary MNIST set"
   ]
  },
  {
   "cell_type": "code",
   "execution_count": 130,
   "metadata": {},
   "outputs": [],
   "source": [
    "# assume 10 components for digits 0-9\n",
    "logLiks_em, πs_em, μs_em, zs_em, R_em = em_mixberns(X_mnist_train, 10)"
   ]
  },
  {
   "cell_type": "code",
   "execution_count": 131,
   "metadata": {},
   "outputs": [
    {
     "name": "stdout",
     "output_type": "stream",
     "text": [
      "Adjusted rand index:  0.36770923995874816\n"
     ]
    },
    {
     "data": {
      "image/png": "[encoded data removed]",
      "text/plain": [
       "<Figure size 640x480 with 1 Axes>"
      ]
     },
     "metadata": {},
     "output_type": "display_data"
    }
   ],
   "source": [
    "ridx = metrics.adjusted_rand_score(Y_mnist_train, zs_em)\n",
    "\n",
    "print(\"Adjusted rand index: \", ridx)\n",
    "\n",
    "plt.plot(logLiks_em[1:])\n",
    "plt.title('MNIST EM Log Likelihood Trajectory')\n",
    "plt.ylabel('Log Likelihood')\n",
    "plt.xlabel('Iterations')\n",
    "plt.show()"
   ]
  },
  {
   "cell_type": "code",
   "execution_count": 65,
   "metadata": {},
   "outputs": [
    {
     "data": {
      "image/png": "[encoded data removed]",
      "text/plain": [
       "<Figure size 700x350 with 10 Axes>"
      ]
     },
     "metadata": {},
     "output_type": "display_data"
    }
   ],
   "source": [
    "figure = plt.figure(figsize=(7, 3.5))\n",
    "rows, cols= 2, 5\n",
    "for k in range(10):\n",
    "    img = μs_em[k, :].reshape(28, 28)\n",
    "    figure.add_subplot(rows, cols, k+1)\n",
    "    # plt.title(k)\n",
    "    plt.axis(\"off\")\n",
    "    plt.imshow(img, cmap=\"gray\")\n",
    "plt.show()"
   ]
  },
  {
   "cell_type": "markdown",
   "metadata": {},
   "source": [
    "# 4 Gibbs Sampling Algorithm"
   ]
  },
  {
   "cell_type": "markdown",
   "metadata": {},
   "source": [
    "Joint Posterior \n",
    "\n",
    "$$\\begin{align}\n",
    "    p(\\mathbf{\\pi},\\mathbf{\\theta},\\mathbf{z}|\\mathbf{X},\\mathbf{\\alpha},a,b) \\propto p(\\mathbf{X}|\\mathbf{z},\\mathbf{\\theta}) p(\\mathbf{z}|\\mathbf{\\pi}) p(\\mathbf{\\pi}|\\mathbf{\\alpha}) p(\\mathbf{\\theta}|a,b)\n",
    "\\end{align}$$"
   ]
  },
  {
   "cell_type": "markdown",
   "metadata": {},
   "source": [
    "Routine\n",
    "\n",
    "1) Initialize \n",
    "$$\\begin{align}\n",
    "    \\boldsymbol{\\alpha} &= [\\alpha_1 = \\frac{1}{K},...,\\alpha_K = \\frac{1}{K}]\\\\\n",
    "    a,b &= \\frac{1}{2}\\\\\n",
    "    \\boldsymbol{\\pi} &\\sim \\mathcal{Dirichlet}(\\boldsymbol{\\alpha})\\\\\n",
    "    \\boldsymbol{\\theta} &\\sim \\mathcal{Beta}(a,b)\\\\\n",
    "    \\boldsymbol{z} &\\sim \\mathcal{Cat}(\\boldsymbol{\\pi})\n",
    "\\end{align}$$\n",
    "\n",
    "\n",
    "2) For $t=1,..,N$\n",
    "$$\\begin{align}\n",
    "\n",
    "\\end{align}$$"
   ]
  },
  {
   "cell_type": "markdown",
   "metadata": {},
   "source": [
    "Softmax:\n",
    "\n",
    "$$\n",
    "    \\mathbf{softmax}_i(p_k) = \\frac{\\exp(p_{ik}) - \\exp(\\mathbf{max}(\\mathbf{p}_i))}{\\sum_{k'}\\exp(p_{ik'})}\n",
    "$$"
   ]
  },
  {
   "cell_type": "code",
   "execution_count": 301,
   "metadata": {},
   "outputs": [],
   "source": [
    "def sampleZs(X, θ, π, eps):\n",
    "    ''' \n",
    "        Compute softmax to produce cat distribution for each row\n",
    "\n",
    "        @param (X) : data matrix (n x d)\n",
    "        @param (θ) : biases for each pixel (K x d)\n",
    "        @param (π) : mixture weights for each component (K)\n",
    "    '''\n",
    "\n",
    "    # Compute Categorical Distribution over components for each row using SoftMax\n",
    "    logp  = np.log(π + eps) + (X @ np.log(θ + eps).T + (1 - X) @ np.log(1 - θ + eps).T) # log likelihood\n",
    "    logp -= logp.max(axis=1, keepdims=True) # reduce logits for numerical stability (invariance property)\n",
    "    p     = np.exp(logp)\n",
    "    p    /= p.sum(axis=1, keepdims=True) # normalize\n",
    "\n",
    "    # Inverse Sample from Categorical Distribution\n",
    "    cdf = np.cumsum(p, axis=1) # compute CDF for each row (each categorical distribution)\n",
    "    u   = rng.random(size=(p.shape[0], 1))\n",
    "    return (cdf > u).argmax(axis=1)  # return first index where cdf is greater than random u"
   ]
  },
  {
   "cell_type": "code",
   "execution_count": null,
   "metadata": {},
   "outputs": [],
   "source": [
    "def sample_θ(X, zs, a_mat, b_mat, K) :\n",
    "    ''' \n",
    "        Samples θs from multivariate Beta distribution\n",
    "\n",
    "        @param (X)     : data matrix (nxd)\n",
    "        @param (zs)    : component assignments (n)\n",
    "        @param (a_mat) : multi-var beta prior for a (K, d)\n",
    "        @param (b_mat) : multi-var beta prior for b (K, d)\n",
    "        @param (K)     : the number of components\n",
    "    '''\n",
    "\n",
    "    n,d=X.shape\n",
    "\n",
    "    nkd1 = np.zeros((K,d))\n",
    "    nkd0 = np.zeros((K,d))\n",
    "\n",
    "    for k in range(K):\n",
    "        indices = np.where(zs == k)[0].tolist()\n",
    "        nkd1[k] = X[indices].sum(axis=0)\n",
    "        nkd0[k] = len(indices) - nkd1[k]\n",
    "    \n",
    "    return rng.beta(a_mat + nkd1, b_mat + nkd0)"
   ]
  },
  {
   "cell_type": "code",
   "execution_count": null,
   "metadata": {},
   "outputs": [],
   "source": [
    "def sample_π(zs, α_0, K):\n",
    "    ''' \n",
    "        Samples mixing weights from Dirichlet distribution parameterized by pseudocounts of components\n",
    "        \n",
    "        @param (zs)  : cluster assignments (n)\n",
    "        @param (α_0) : Dirichlet prior list (K)\n",
    "        @param (K)   : the number of components\n",
    "    '''\n",
    "\n",
    "    z_counts = np.bincount(zs, minlength=K)\n",
    "    return rng.dirichlet(α_0 + z_counts)"
   ]
  },
  {
   "cell_type": "code",
   "execution_count": 322,
   "metadata": {},
   "outputs": [],
   "source": [
    "def gibbs(X, num_iter, num_burn, K=10, rng=np.random.default_rng(random_seed), eps=1e-20) :\n",
    "    n, d = X.shape\n",
    "    X = X.astype(np.uint8)\n",
    "\n",
    "    α_0 = np.full(K, 1 / K, dtype=np.float64)  \n",
    "\n",
    "    a_mat  = np.full((K, d), 1)          \n",
    "    b_mat  = np.full((K, d), 1)\n",
    "\n",
    "    πs = np.zeros((num_iter + num_burn, K))\n",
    "    zs = np.zeros((num_iter + num_burn, n), dtype=np.int16)\n",
    "    θs = np.zeros((num_iter + num_burn, K, d))\n",
    "\n",
    "    πs[0] = rng.dirichlet(α_0)\n",
    "    R = rng.random((K,d))\n",
    "    θs[0] = R/np.sum(R, axis=1, keepdims=True)\n",
    "    zs[0] = sampleZs(X, θs[0], πs[0], eps)\n",
    "\n",
    "    for t in range(1,num_iter+num_burn):\n",
    "        πs[t] = sample_π(zs[t-1], α_0, 10)\n",
    "\n",
    "        θs[t] = sample_θ(X, zs[t-1], a_mat, b_mat, 10)\n",
    "        \n",
    "        zs[t] = sampleZs(X, θs[t],πs[t],eps).astype(np.int16)\n",
    "    \n",
    "    return πs[num_burn:], θs[num_burn:], zs[num_burn:]"
   ]
  },
  {
   "cell_type": "code",
   "execution_count": 323,
   "metadata": {},
   "outputs": [],
   "source": [
    "πs,θs,zs= gibbs(X_mnist_train, 1000, 100, 10)"
   ]
  },
  {
   "cell_type": "code",
   "execution_count": 324,
   "metadata": {},
   "outputs": [
    {
     "data": {
      "text/plain": [
       "0.39137009273443335"
      ]
     },
     "execution_count": 324,
     "metadata": {},
     "output_type": "execute_result"
    }
   ],
   "source": [
    "metrics.adjusted_rand_score(Y_mnist_train, zs[-1])"
   ]
  },
  {
   "cell_type": "code",
   "execution_count": 326,
   "metadata": {},
   "outputs": [
    {
     "data": {
      "image/png": "[encoded data removed]",
      "text/plain": [
       "<Figure size 700x350 with 10 Axes>"
      ]
     },
     "metadata": {},
     "output_type": "display_data"
    }
   ],
   "source": [
    "figure = plt.figure(figsize=(7, 3.5))\n",
    "rows, cols= 2, 5\n",
    "for k in range(10):\n",
    "    img = θs[-1][k, :].reshape(28, 28)\n",
    "    figure.add_subplot(rows, cols, k+1)\n",
    "    plt.title(k)\n",
    "    plt.axis(\"off\")\n",
    "    plt.imshow(img, cmap=\"gray\")\n",
    "plt.show()"
   ]
  },
  {
   "cell_type": "code",
   "execution_count": null,
   "metadata": {},
   "outputs": [],
   "source": []
  }
 ],
 "metadata": {
  "kernelspec": {
   "display_name": "myenv",
   "language": "python",
   "name": "python3"
  },
  "language_info": {
   "codemirror_mode": {
    "name": "ipython",
    "version": 3
   },
   "file_extension": ".py",
   "mimetype": "text/x-python",
   "name": "python",
   "nbconvert_exporter": "python",
   "pygments_lexer": "ipython3",
   "version": "3.9.21"
  }
 },
 "nbformat": 4,
 "nbformat_minor": 2
}
